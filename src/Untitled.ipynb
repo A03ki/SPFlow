{
 "cells": [
  {
   "cell_type": "code",
   "execution_count": 1,
   "metadata": {},
   "outputs": [
    {
     "data": {
      "text/html": [
       "<script>requirejs.config({paths: { 'plotly': ['https://cdn.plot.ly/plotly-latest.min']},});if(!window.Plotly) {{require(['plotly'],function(plotly) {window.Plotly=plotly;});}}</script>"
      ],
      "text/vnd.plotly.v1+html": [
       "<script>requirejs.config({paths: { 'plotly': ['https://cdn.plot.ly/plotly-latest.min']},});if(!window.Plotly) {{require(['plotly'],function(plotly) {window.Plotly=plotly;});}}</script>"
      ]
     },
     "metadata": {},
     "output_type": "display_data"
    },
    {
     "name": "stderr",
     "output_type": "stream",
     "text": [
      "/home/iliricon/.virtualenvs/SimpleSPN/lib/python3.7/site-packages/sklearn/cross_decomposition/pls_.py:313: UserWarning:\n",
      "\n",
      "X scores are null at iteration 0\n",
      "\n",
      "/home/iliricon/.virtualenvs/SimpleSPN/lib/python3.7/site-packages/numpy/lib/function_base.py:2400: RuntimeWarning:\n",
      "\n",
      "invalid value encountered in true_divide\n",
      "\n",
      "/home/iliricon/.virtualenvs/SimpleSPN/lib/python3.7/site-packages/sklearn/cross_decomposition/pls_.py:77: UserWarning:\n",
      "\n",
      "Maximum number of iterations reached\n",
      "\n"
     ]
    },
    {
     "name": "stdout",
     "output_type": "stream",
     "text": [
      "[[5.1 3.5 1.4 0.2 0. ]\n",
      " [4.9 3.  1.4 0.2 0. ]\n",
      " [4.7 3.2 1.3 0.2 0. ]\n",
      " [4.6 3.1 1.5 0.2 0. ]\n",
      " [5.  3.6 1.4 0.2 0. ]\n",
      " [5.4 3.9 1.7 0.4 0. ]\n",
      " [4.6 3.4 1.4 0.3 0. ]\n",
      " [5.  3.4 1.5 0.2 0. ]\n",
      " [4.4 2.9 1.4 0.2 0. ]\n",
      " [4.9 3.1 1.5 0.1 0. ]\n",
      " [5.4 3.7 1.5 0.2 0. ]\n",
      " [4.8 3.4 1.6 0.2 0. ]\n",
      " [4.8 3.  1.4 0.1 0. ]\n",
      " [4.3 3.  1.1 0.1 0. ]\n",
      " [5.8 4.  1.2 0.2 0. ]\n",
      " [5.7 4.4 1.5 0.4 0. ]\n",
      " [5.4 3.9 1.3 0.4 0. ]\n",
      " [5.1 3.5 1.4 0.3 0. ]\n",
      " [5.7 3.8 1.7 0.3 0. ]\n",
      " [5.1 3.8 1.5 0.3 0. ]\n",
      " [5.4 3.4 1.7 0.2 0. ]\n",
      " [5.1 3.7 1.5 0.4 0. ]\n",
      " [4.6 3.6 1.  0.2 0. ]\n",
      " [5.1 3.3 1.7 0.5 0. ]\n",
      " [4.8 3.4 1.9 0.2 0. ]\n",
      " [5.  3.  1.6 0.2 0. ]\n",
      " [5.  3.4 1.6 0.4 0. ]\n",
      " [5.2 3.5 1.5 0.2 0. ]\n",
      " [5.2 3.4 1.4 0.2 0. ]\n",
      " [4.7 3.2 1.6 0.2 0. ]\n",
      " [4.8 3.1 1.6 0.2 0. ]\n",
      " [5.4 3.4 1.5 0.4 0. ]\n",
      " [5.2 4.1 1.5 0.1 0. ]\n",
      " [5.5 4.2 1.4 0.2 0. ]\n",
      " [4.9 3.1 1.5 0.1 0. ]\n",
      " [5.  3.2 1.2 0.2 0. ]\n",
      " [5.5 3.5 1.3 0.2 0. ]\n",
      " [4.9 3.1 1.5 0.1 0. ]\n",
      " [4.4 3.  1.3 0.2 0. ]\n",
      " [5.1 3.4 1.5 0.2 0. ]\n",
      " [5.  3.5 1.3 0.3 0. ]\n",
      " [4.5 2.3 1.3 0.3 0. ]\n",
      " [4.4 3.2 1.3 0.2 0. ]\n",
      " [5.  3.5 1.6 0.6 0. ]\n",
      " [5.1 3.8 1.9 0.4 0. ]\n",
      " [4.8 3.  1.4 0.3 0. ]\n",
      " [5.1 3.8 1.6 0.2 0. ]\n",
      " [4.6 3.2 1.4 0.2 0. ]\n",
      " [5.3 3.7 1.5 0.2 0. ]\n",
      " [5.  3.3 1.4 0.2 0. ]\n",
      " [7.  3.2 4.7 1.4 1. ]\n",
      " [6.4 3.2 4.5 1.5 1. ]\n",
      " [6.9 3.1 4.9 1.5 1. ]\n",
      " [5.5 2.3 4.  1.3 1. ]\n",
      " [6.5 2.8 4.6 1.5 1. ]\n",
      " [5.7 2.8 4.5 1.3 1. ]\n",
      " [6.3 3.3 4.7 1.6 1. ]\n",
      " [4.9 2.4 3.3 1.  0. ]\n",
      " [6.6 2.9 4.6 1.3 1. ]\n",
      " [5.2 2.7 3.9 1.4 1. ]\n",
      " [5.  2.  3.5 1.  1. ]\n",
      " [5.9 3.  4.2 1.5 1. ]\n",
      " [6.  2.2 4.  1.  1. ]\n",
      " [6.1 2.9 4.7 1.4 1. ]\n",
      " [5.6 2.9 3.6 1.3 1. ]\n",
      " [6.7 3.1 4.4 1.4 1. ]\n",
      " [5.6 3.  4.5 1.5 1. ]\n",
      " [5.8 2.7 4.1 1.  1. ]\n",
      " [6.2 2.2 4.5 1.5 1. ]\n",
      " [5.6 2.5 3.9 1.1 1. ]\n",
      " [5.9 3.2 4.8 1.8 2. ]\n",
      " [6.1 2.8 4.  1.3 1. ]\n",
      " [6.3 2.5 4.9 1.5 1. ]\n",
      " [6.1 2.8 4.7 1.2 1. ]\n",
      " [6.4 2.9 4.3 1.3 1. ]\n",
      " [6.6 3.  4.4 1.4 1. ]\n",
      " [6.8 2.8 4.8 1.4 1. ]\n",
      " [6.7 3.  5.  1.7 1. ]\n",
      " [6.  2.9 4.5 1.5 1. ]\n",
      " [5.7 2.6 3.5 1.  1. ]\n",
      " [5.5 2.4 3.8 1.1 1. ]\n",
      " [5.5 2.4 3.7 1.  1. ]\n",
      " [5.8 2.7 3.9 1.2 1. ]\n",
      " [6.  2.7 5.1 1.6 2. ]\n",
      " [5.4 3.  4.5 1.5 1. ]\n",
      " [6.  3.4 4.5 1.6 1. ]\n",
      " [6.7 3.1 4.7 1.5 1. ]\n",
      " [6.3 2.3 4.4 1.3 1. ]\n",
      " [5.6 3.  4.1 1.3 1. ]\n",
      " [5.5 2.5 4.  1.3 1. ]\n",
      " [5.5 2.6 4.4 1.2 1. ]\n",
      " [6.1 3.  4.6 1.4 1. ]\n",
      " [5.8 2.6 4.  1.2 1. ]\n",
      " [5.  2.3 3.3 1.  1. ]\n",
      " [5.6 2.7 4.2 1.3 1. ]\n",
      " [5.7 3.  4.2 1.2 1. ]\n",
      " [5.7 2.9 4.2 1.3 1. ]\n",
      " [6.2 2.9 4.3 1.3 1. ]\n",
      " [5.1 2.5 3.  1.1 1. ]\n",
      " [5.7 2.8 4.1 1.3 1. ]\n",
      " [6.3 3.3 6.  2.5 2. ]\n",
      " [5.8 2.7 5.1 1.9 2. ]\n",
      " [7.1 3.  5.9 2.1 2. ]\n",
      " [6.3 2.9 5.6 1.8 2. ]\n",
      " [6.5 3.  5.8 2.2 2. ]\n",
      " [7.6 3.  6.6 2.1 2. ]\n",
      " [4.9 2.5 4.5 1.7 1. ]\n",
      " [7.3 2.9 6.3 1.8 2. ]\n",
      " [6.7 2.5 5.8 1.8 2. ]\n",
      " [7.2 3.6 6.1 2.5 2. ]\n",
      " [6.5 3.2 5.1 2.  2. ]\n",
      " [6.4 2.7 5.3 1.9 2. ]\n",
      " [6.8 3.  5.5 2.1 2. ]\n",
      " [5.7 2.5 5.  2.  2. ]\n",
      " [5.8 2.8 5.1 2.4 2. ]\n",
      " [6.4 3.2 5.3 2.3 2. ]\n",
      " [6.5 3.  5.5 1.8 2. ]\n",
      " [7.7 3.8 6.7 2.2 2. ]\n",
      " [7.7 2.6 6.9 2.3 2. ]\n",
      " [6.  2.2 5.  1.5 2. ]\n",
      " [6.9 3.2 5.7 2.3 2. ]\n",
      " [5.6 2.8 4.9 2.  2. ]\n",
      " [7.7 2.8 6.7 2.  2. ]\n",
      " [6.3 2.7 4.9 1.8 2. ]\n",
      " [6.7 3.3 5.7 2.1 2. ]\n",
      " [7.2 3.2 6.  1.8 2. ]\n",
      " [6.2 2.8 4.8 1.8 2. ]\n",
      " [6.1 3.  4.9 1.8 2. ]\n",
      " [6.4 2.8 5.6 2.1 2. ]\n",
      " [7.2 3.  5.8 1.6 2. ]\n",
      " [7.4 2.8 6.1 1.9 2. ]\n",
      " [7.9 3.8 6.4 2.  2. ]\n",
      " [6.4 2.8 5.6 2.2 2. ]\n",
      " [6.3 2.8 5.1 1.5 2. ]\n",
      " [6.1 2.6 5.6 1.4 1. ]\n",
      " [7.7 3.  6.1 2.3 2. ]\n",
      " [6.3 3.4 5.6 2.4 2. ]\n",
      " [6.4 3.1 5.5 1.8 2. ]\n",
      " [6.  3.  4.8 1.8 1. ]\n",
      " [6.9 3.1 5.4 2.1 2. ]\n",
      " [6.7 3.1 5.6 2.4 2. ]\n",
      " [6.9 3.1 5.1 2.3 2. ]\n",
      " [5.8 2.7 5.1 1.9 2. ]\n",
      " [6.8 3.2 5.9 2.3 2. ]\n",
      " [6.7 3.3 5.7 2.5 2. ]\n",
      " [6.7 3.  5.2 2.3 2. ]\n",
      " [6.3 2.5 5.  1.9 2. ]\n",
      " [6.5 3.  5.2 2.  2. ]\n",
      " [6.2 3.4 5.4 2.3 2. ]\n",
      " [5.9 3.  5.1 1.8 2. ]]\n",
      "[[0.]\n",
      " [0.]\n",
      " [0.]\n",
      " [0.]\n",
      " [0.]\n",
      " [0.]\n",
      " [0.]\n",
      " [0.]\n",
      " [0.]\n",
      " [0.]\n",
      " [0.]\n",
      " [0.]\n",
      " [0.]\n",
      " [0.]\n",
      " [0.]\n",
      " [0.]\n",
      " [0.]\n",
      " [0.]\n",
      " [0.]\n",
      " [0.]\n",
      " [0.]\n",
      " [0.]\n",
      " [0.]\n",
      " [0.]\n",
      " [0.]\n",
      " [0.]\n",
      " [0.]\n",
      " [0.]\n",
      " [0.]\n",
      " [0.]\n",
      " [0.]\n",
      " [0.]\n",
      " [0.]\n",
      " [0.]\n",
      " [0.]\n",
      " [0.]\n",
      " [0.]\n",
      " [0.]\n",
      " [0.]\n",
      " [0.]\n",
      " [0.]\n",
      " [0.]\n",
      " [0.]\n",
      " [0.]\n",
      " [0.]\n",
      " [0.]\n",
      " [0.]\n",
      " [0.]\n",
      " [0.]\n",
      " [0.]\n",
      " [1.]\n",
      " [1.]\n",
      " [1.]\n",
      " [1.]\n",
      " [1.]\n",
      " [1.]\n",
      " [1.]\n",
      " [0.]\n",
      " [1.]\n",
      " [1.]\n",
      " [1.]\n",
      " [1.]\n",
      " [1.]\n",
      " [1.]\n",
      " [1.]\n",
      " [1.]\n",
      " [1.]\n",
      " [1.]\n",
      " [1.]\n",
      " [1.]\n",
      " [2.]\n",
      " [1.]\n",
      " [1.]\n",
      " [1.]\n",
      " [1.]\n",
      " [1.]\n",
      " [1.]\n",
      " [1.]\n",
      " [1.]\n",
      " [1.]\n",
      " [1.]\n",
      " [1.]\n",
      " [1.]\n",
      " [2.]\n",
      " [1.]\n",
      " [1.]\n",
      " [1.]\n",
      " [1.]\n",
      " [1.]\n",
      " [1.]\n",
      " [1.]\n",
      " [1.]\n",
      " [1.]\n",
      " [1.]\n",
      " [1.]\n",
      " [1.]\n",
      " [1.]\n",
      " [1.]\n",
      " [1.]\n",
      " [1.]\n",
      " [2.]\n",
      " [2.]\n",
      " [2.]\n",
      " [2.]\n",
      " [2.]\n",
      " [2.]\n",
      " [1.]\n",
      " [2.]\n",
      " [2.]\n",
      " [2.]\n",
      " [2.]\n",
      " [2.]\n",
      " [2.]\n",
      " [2.]\n",
      " [2.]\n",
      " [2.]\n",
      " [2.]\n",
      " [2.]\n",
      " [2.]\n",
      " [2.]\n",
      " [2.]\n",
      " [2.]\n",
      " [2.]\n",
      " [2.]\n",
      " [2.]\n",
      " [2.]\n",
      " [2.]\n",
      " [2.]\n",
      " [2.]\n",
      " [2.]\n",
      " [2.]\n",
      " [2.]\n",
      " [2.]\n",
      " [2.]\n",
      " [1.]\n",
      " [2.]\n",
      " [2.]\n",
      " [2.]\n",
      " [1.]\n",
      " [2.]\n",
      " [2.]\n",
      " [2.]\n",
      " [2.]\n",
      " [2.]\n",
      " [2.]\n",
      " [2.]\n",
      " [2.]\n",
      " [2.]\n",
      " [2.]\n",
      " [2.]]\n"
     ]
    },
    {
     "data": {
      "text/markdown": [
       "For feature \"scientific name\" the SPN misclassifies 6 instances, resulting in a precision of 96.0%."
      ],
      "text/plain": [
       "<IPython.core.display.Markdown object>"
      ]
     },
     "metadata": {},
     "output_type": "display_data"
    },
    {
     "name": "stderr",
     "output_type": "stream",
     "text": [
      "/home/iliricon/.virtualenvs/SimpleSPN/lib/python3.7/site-packages/sklearn/preprocessing/label.py:151: DeprecationWarning:\n",
      "\n",
      "The truth value of an empty array is ambiguous. Returning False, but in future this will result in an error. Use `array.size > 0` to check that an array is not empty.\n",
      "\n"
     ]
    },
    {
     "data": {
      "text/markdown": [
       "#### Class \"scientific name\": \"Iris-setosa\""
      ],
      "text/plain": [
       "<IPython.core.display.Markdown object>"
      ]
     },
     "metadata": {},
     "output_type": "display_data"
    },
    {
     "name": "stderr",
     "output_type": "stream",
     "text": [
      "/home/iliricon/.virtualenvs/SimpleSPN/lib/python3.7/site-packages/sklearn/preprocessing/label.py:151: DeprecationWarning:\n",
      "\n",
      "The truth value of an empty array is ambiguous. Returning False, but in future this will result in an error. Use `array.size > 0` to check that an array is not empty.\n",
      "\n"
     ]
    },
    {
     "data": {
      "text/markdown": [
       "##### Predictive <class 'spn.structure.leaves.piecewise.PiecewiseLinear.PiecewiseLinear'> feature \"sepal length\"\n",
       "\n"
      ],
      "text/plain": [
       "<IPython.core.display.Markdown object>"
      ]
     },
     "metadata": {},
     "output_type": "display_data"
    },
    {
     "data": {
      "application/vnd.plotly.v1+json": {
       "data": [
        {
         "autobinx": false,
         "type": "histogram",
         "x": [
          -0.015488136957592899,
          -0.3133824682687431,
          -0.16168903420154485,
          0.21688925914193805,
          0.8047553728144421,
          -0.3437636468694049,
          0.7355009907825182,
          -0.28614350406963535,
          0.5406941535499545,
          -0.0013431678141397256,
          0.012271795638208294,
          -0.21422072246251556,
          -0.0009027572817445348,
          0.05565882919538547,
          -0.3823098421509793,
          -9.881776217184797e-08,
          0.004967571935888334,
          -0.270847705356795,
          -0.004336035264052582,
          -0.012375871436611433,
          -0.007184139717143168,
          -0.30713398924845836,
          0.01148498457166158,
          -0.1226098597873377,
          -0.20640440359116077,
          -0.5370866526151036,
          0.9999897925180916,
          -0.0039834860151048085,
          -0.0016513574598137125,
          -0.16503991131002155,
          -0.21663593121575683,
          -0.5686682792390771,
          0.31137153133254575,
          0.2630353947084235,
          -0.0013431678141397256,
          -0.5234869040859746,
          0.24989651047889405,
          -0.0013431678141397256,
          0.5328402956292329,
          -0.03549743080598544,
          0.866760043314291,
          0.25425047200999035,
          0.53445606060221,
          0.9960556800316296,
          -0.04350913602705144,
          -0.7199242784297126,
          -0.0611435875949757,
          0.2172739460642553,
          -0.008626861165474257,
          -0.5335824739594129,
          -0.0054723612954077
         ],
         "xbins": {
          "end": 1,
          "size": 0.09999999999999998,
          "start": -1
         }
        }
       ],
       "layout": {
        "height": 450,
        "width": 450
       }
      },
      "text/html": [
       "<div id=\"84b0eb2c-966b-4968-8886-5387afe86708\" style=\"height: 450px; width: 450px;\" class=\"plotly-graph-div\"></div><script type=\"text/javascript\">require([\"plotly\"], function(Plotly) { window.PLOTLYENV=window.PLOTLYENV || {};window.PLOTLYENV.BASE_URL=\"https://plot.ly\";Plotly.newPlot(\"84b0eb2c-966b-4968-8886-5387afe86708\", [{\"type\": \"histogram\", \"x\": [-0.015488136957592899, -0.3133824682687431, -0.16168903420154485, 0.21688925914193805, 0.8047553728144421, -0.3437636468694049, 0.7355009907825182, -0.28614350406963535, 0.5406941535499545, -0.0013431678141397256, 0.012271795638208294, -0.21422072246251556, -0.0009027572817445348, 0.05565882919538547, -0.3823098421509793, -9.881776217184797e-08, 0.004967571935888334, -0.270847705356795, -0.004336035264052582, -0.012375871436611433, -0.007184139717143168, -0.30713398924845836, 0.01148498457166158, -0.1226098597873377, -0.20640440359116077, -0.5370866526151036, 0.9999897925180916, -0.0039834860151048085, -0.0016513574598137125, -0.16503991131002155, -0.21663593121575683, -0.5686682792390771, 0.31137153133254575, 0.2630353947084235, -0.0013431678141397256, -0.5234869040859746, 0.24989651047889405, -0.0013431678141397256, 0.5328402956292329, -0.03549743080598544, 0.866760043314291, 0.25425047200999035, 0.53445606060221, 0.9960556800316296, -0.04350913602705144, -0.7199242784297126, -0.0611435875949757, 0.2172739460642553, -0.008626861165474257, -0.5335824739594129, -0.0054723612954077], \"autobinx\": false, \"xbins\": {\"start\": -1.0, \"end\": 1.0, \"size\": 0.09999999999999998}}], {\"width\": 450, \"height\": 450}, {\"showLink\": true, \"linkText\": \"Export to plot.ly\"})});</script>"
      ],
      "text/vnd.plotly.v1+html": [
       "<div id=\"84b0eb2c-966b-4968-8886-5387afe86708\" style=\"height: 450px; width: 450px;\" class=\"plotly-graph-div\"></div><script type=\"text/javascript\">require([\"plotly\"], function(Plotly) { window.PLOTLYENV=window.PLOTLYENV || {};window.PLOTLYENV.BASE_URL=\"https://plot.ly\";Plotly.newPlot(\"84b0eb2c-966b-4968-8886-5387afe86708\", [{\"type\": \"histogram\", \"x\": [-0.015488136957592899, -0.3133824682687431, -0.16168903420154485, 0.21688925914193805, 0.8047553728144421, -0.3437636468694049, 0.7355009907825182, -0.28614350406963535, 0.5406941535499545, -0.0013431678141397256, 0.012271795638208294, -0.21422072246251556, -0.0009027572817445348, 0.05565882919538547, -0.3823098421509793, -9.881776217184797e-08, 0.004967571935888334, -0.270847705356795, -0.004336035264052582, -0.012375871436611433, -0.007184139717143168, -0.30713398924845836, 0.01148498457166158, -0.1226098597873377, -0.20640440359116077, -0.5370866526151036, 0.9999897925180916, -0.0039834860151048085, -0.0016513574598137125, -0.16503991131002155, -0.21663593121575683, -0.5686682792390771, 0.31137153133254575, 0.2630353947084235, -0.0013431678141397256, -0.5234869040859746, 0.24989651047889405, -0.0013431678141397256, 0.5328402956292329, -0.03549743080598544, 0.866760043314291, 0.25425047200999035, 0.53445606060221, 0.9960556800316296, -0.04350913602705144, -0.7199242784297126, -0.0611435875949757, 0.2172739460642553, -0.008626861165474257, -0.5335824739594129, -0.0054723612954077], \"autobinx\": false, \"xbins\": {\"start\": -1.0, \"end\": 1.0, \"size\": 0.09999999999999998}}], {\"width\": 450, \"height\": 450}, {\"showLink\": true, \"linkText\": \"Export to plot.ly\"})});</script>"
      ]
     },
     "metadata": {},
     "output_type": "display_data"
    },
    {
     "data": {
      "text/markdown": [
       "The feature \"sepal length\" is a very weak positive predictor for the instance                       \"Iris-setosa\" of class \"scientific name\".\n",
       "The impact of the feature on the classification is strong for data points centered around 5.04. The impact on the classification is moderate for data points centered around 5.22. The feature influences the classification weakly for data points centered around 5.06. For data points centered around 4.91 the classification is weakly influenced. For data points centered around 5.07 the classification is moderately influenced by it. The influence of the feature on the classification is strong for data points centered around 4.45. The influence on the classification is very strong for data points centered around 5.0."
      ],
      "text/plain": [
       "<IPython.core.display.Markdown object>"
      ]
     },
     "metadata": {},
     "output_type": "display_data"
    },
    {
     "name": "stderr",
     "output_type": "stream",
     "text": [
      "/home/iliricon/.virtualenvs/SimpleSPN/lib/python3.7/site-packages/sklearn/preprocessing/label.py:151: DeprecationWarning:\n",
      "\n",
      "The truth value of an empty array is ambiguous. Returning False, but in future this will result in an error. Use `array.size > 0` to check that an array is not empty.\n",
      "\n"
     ]
    },
    {
     "data": {
      "text/markdown": [
       "##### Predictive <class 'spn.structure.leaves.piecewise.PiecewiseLinear.PiecewiseLinear'> feature \"sepal width\"\n",
       "\n"
      ],
      "text/plain": [
       "<IPython.core.display.Markdown object>"
      ]
     },
     "metadata": {},
     "output_type": "display_data"
    },
    {
     "data": {
      "application/vnd.plotly.v1+json": {
       "data": [
        {
         "autobinx": false,
         "type": "histogram",
         "x": [
          0.0032542312433227354,
          0.12897879179239002,
          0.09406376044239302,
          0.1107870670851082,
          -0.5426007943386328,
          0.022811748332378978,
          -0.64052167877851,
          -0.33645186850967923,
          0.1422519713592761,
          0.0004613833666326323,
          -0.005228699215577907,
          -0.3118997619871808,
          0.0005529266854461843,
          0.0005461489761186604,
          0.007245301258526327,
          -0.9999999999525128,
          0.010042861917773661,
          0.3191764034788902,
          -0.9142618748596557,
          -0.9994682499353983,
          -0.011163449796805752,
          -0.716100161638014,
          -0.4161815807818469,
          0.9861287462998503,
          -0.300773429277639,
          0.11457805499111437,
          -0.00015244252011269757,
          0.003152012770161303,
          0.0056650511117033,
          0.09601473281162128,
          0.11065193870766336,
          0.5977303908183357,
          0.004686358017366382,
          -0.38931780820292855,
          0.0004613833666326323,
          0.07892439882013014,
          -0.2320607885169539,
          0.0004613833666326323,
          0.11229022566077686,
          0.006759868917337707,
          -0.18369894277344637,
          0.9148548318311522,
          0.08058304595646812,
          -0.04340371709732643,
          -0.8248601442337518,
          0.44159061739905975,
          -0.22957767537459872,
          0.09519273193220698,
          -0.006866393760984409,
          -0.18177222681756858,
          0.014166175026612193
         ],
         "xbins": {
          "end": 1,
          "size": 0.09999999999999998,
          "start": -1
         }
        }
       ],
       "layout": {
        "height": 450,
        "width": 450
       }
      },
      "text/html": [
       "<div id=\"68347b7c-3955-4812-bd07-cf5eac9e1dac\" style=\"height: 450px; width: 450px;\" class=\"plotly-graph-div\"></div><script type=\"text/javascript\">require([\"plotly\"], function(Plotly) { window.PLOTLYENV=window.PLOTLYENV || {};window.PLOTLYENV.BASE_URL=\"https://plot.ly\";Plotly.newPlot(\"68347b7c-3955-4812-bd07-cf5eac9e1dac\", [{\"type\": \"histogram\", \"x\": [0.0032542312433227354, 0.12897879179239002, 0.09406376044239302, 0.1107870670851082, -0.5426007943386328, 0.022811748332378978, -0.64052167877851, -0.33645186850967923, 0.1422519713592761, 0.0004613833666326323, -0.005228699215577907, -0.3118997619871808, 0.0005529266854461843, 0.0005461489761186604, 0.007245301258526327, -0.9999999999525128, 0.010042861917773661, 0.3191764034788902, -0.9142618748596557, -0.9994682499353983, -0.011163449796805752, -0.716100161638014, -0.4161815807818469, 0.9861287462998503, -0.300773429277639, 0.11457805499111437, -0.00015244252011269757, 0.003152012770161303, 0.0056650511117033, 0.09601473281162128, 0.11065193870766336, 0.5977303908183357, 0.004686358017366382, -0.38931780820292855, 0.0004613833666326323, 0.07892439882013014, -0.2320607885169539, 0.0004613833666326323, 0.11229022566077686, 0.006759868917337707, -0.18369894277344637, 0.9148548318311522, 0.08058304595646812, -0.04340371709732643, -0.8248601442337518, 0.44159061739905975, -0.22957767537459872, 0.09519273193220698, -0.006866393760984409, -0.18177222681756858, 0.014166175026612193], \"autobinx\": false, \"xbins\": {\"start\": -1.0, \"end\": 1.0, \"size\": 0.09999999999999998}}], {\"width\": 450, \"height\": 450}, {\"showLink\": true, \"linkText\": \"Export to plot.ly\"})});</script>"
      ],
      "text/vnd.plotly.v1+html": [
       "<div id=\"68347b7c-3955-4812-bd07-cf5eac9e1dac\" style=\"height: 450px; width: 450px;\" class=\"plotly-graph-div\"></div><script type=\"text/javascript\">require([\"plotly\"], function(Plotly) { window.PLOTLYENV=window.PLOTLYENV || {};window.PLOTLYENV.BASE_URL=\"https://plot.ly\";Plotly.newPlot(\"68347b7c-3955-4812-bd07-cf5eac9e1dac\", [{\"type\": \"histogram\", \"x\": [0.0032542312433227354, 0.12897879179239002, 0.09406376044239302, 0.1107870670851082, -0.5426007943386328, 0.022811748332378978, -0.64052167877851, -0.33645186850967923, 0.1422519713592761, 0.0004613833666326323, -0.005228699215577907, -0.3118997619871808, 0.0005529266854461843, 0.0005461489761186604, 0.007245301258526327, -0.9999999999525128, 0.010042861917773661, 0.3191764034788902, -0.9142618748596557, -0.9994682499353983, -0.011163449796805752, -0.716100161638014, -0.4161815807818469, 0.9861287462998503, -0.300773429277639, 0.11457805499111437, -0.00015244252011269757, 0.003152012770161303, 0.0056650511117033, 0.09601473281162128, 0.11065193870766336, 0.5977303908183357, 0.004686358017366382, -0.38931780820292855, 0.0004613833666326323, 0.07892439882013014, -0.2320607885169539, 0.0004613833666326323, 0.11229022566077686, 0.006759868917337707, -0.18369894277344637, 0.9148548318311522, 0.08058304595646812, -0.04340371709732643, -0.8248601442337518, 0.44159061739905975, -0.22957767537459872, 0.09519273193220698, -0.006866393760984409, -0.18177222681756858, 0.014166175026612193], \"autobinx\": false, \"xbins\": {\"start\": -1.0, \"end\": 1.0, \"size\": 0.09999999999999998}}], {\"width\": 450, \"height\": 450}, {\"showLink\": true, \"linkText\": \"Export to plot.ly\"})});</script>"
      ]
     },
     "metadata": {},
     "output_type": "display_data"
    },
    {
     "data": {
      "text/markdown": [
       "The feature \"sepal width\" is a weak negative predictor for the instance                       \"Iris-setosa\" of class \"scientific name\".\n",
       "For data points centered around 3.95 the feature influences the classification very strongly. For data points centered around 3.57 the classification is strongly influenced. The influence on the classification is moderate for data points centered around 3.6. The feature influences the classification weakly for data points centered around 3.53. For data points centered around 3.26 the feature influences the classification weakly."
      ],
      "text/plain": [
       "<IPython.core.display.Markdown object>"
      ]
     },
     "metadata": {},
     "output_type": "display_data"
    },
    {
     "name": "stderr",
     "output_type": "stream",
     "text": [
      "/home/iliricon/.virtualenvs/SimpleSPN/lib/python3.7/site-packages/sklearn/preprocessing/label.py:151: DeprecationWarning:\n",
      "\n",
      "The truth value of an empty array is ambiguous. Returning False, but in future this will result in an error. Use `array.size > 0` to check that an array is not empty.\n",
      "\n"
     ]
    },
    {
     "data": {
      "text/markdown": [
       "##### Predictive <class 'spn.structure.leaves.piecewise.PiecewiseLinear.PiecewiseLinear'> feature \"petal length\"\n",
       "\n"
      ],
      "text/plain": [
       "<IPython.core.display.Markdown object>"
      ]
     },
     "metadata": {},
     "output_type": "display_data"
    },
    {
     "data": {
      "application/vnd.plotly.v1+json": {
       "data": [
        {
         "autobinx": false,
         "type": "histogram",
         "x": [
          0.0076167867593488325,
          -0.06666369498886411,
          0.21596128018953134,
          -0.07706577558762018,
          -0.0016820933676344623,
          -0.6552018905915851,
          0.20827257898995505,
          -0.08300687668207386,
          -0.05862596646713283,
          -0.0003226982765368857,
          -0.021696106304971985,
          -0.08636859301783255,
          -0.00028316602537275317,
          0.0026522815599370267,
          0.9227509109124966,
          -5.0454536111245855e-08,
          0.03466254060223595,
          0.6422643162151984,
          -0.40439813891322574,
          -0.009191172419372232,
          -0.07061262383022536,
          -0.23322426423155285,
          0.9091708751056629,
          -0.025399202265301214,
          -0.13781376816110177,
          -0.07561787732127148,
          -0.00208725124311838,
          -0.0025448468070855225,
          0.00734365716323873,
          -0.08814867739838135,
          -0.08718573714894029,
          -0.1953277037574654,
          -0.014860102020762558,
          0.3961530954697854,
          -0.0003226982765368857,
          0.2703360319954768,
          0.8738559685053039,
          -0.0003226982765368857,
          0.18469787104533514,
          -0.0026513526875487485,
          0.461592235475618,
          0.2838859748699864,
          0.1851649721298756,
          -0.007781008247466826,
          -0.5633258966559912,
          -0.2149578678339986,
          -0.005068721749888004,
          -0.06888527875762933,
          -0.007680690199368126,
          -0.05849564153806083,
          0.02082191283107373
         ],
         "xbins": {
          "end": 1,
          "size": 0.09999999999999998,
          "start": -1
         }
        }
       ],
       "layout": {
        "height": 450,
        "width": 450
       }
      },
      "text/html": [
       "<div id=\"aecc555c-2a6f-491d-b1ed-7687bae7b8ee\" style=\"height: 450px; width: 450px;\" class=\"plotly-graph-div\"></div><script type=\"text/javascript\">require([\"plotly\"], function(Plotly) { window.PLOTLYENV=window.PLOTLYENV || {};window.PLOTLYENV.BASE_URL=\"https://plot.ly\";Plotly.newPlot(\"aecc555c-2a6f-491d-b1ed-7687bae7b8ee\", [{\"type\": \"histogram\", \"x\": [0.0076167867593488325, -0.06666369498886411, 0.21596128018953134, -0.07706577558762018, -0.0016820933676344623, -0.6552018905915851, 0.20827257898995505, -0.08300687668207386, -0.05862596646713283, -0.0003226982765368857, -0.021696106304971985, -0.08636859301783255, -0.00028316602537275317, 0.0026522815599370267, 0.9227509109124966, -5.0454536111245855e-08, 0.03466254060223595, 0.6422643162151984, -0.40439813891322574, -0.009191172419372232, -0.07061262383022536, -0.23322426423155285, 0.9091708751056629, -0.025399202265301214, -0.13781376816110177, -0.07561787732127148, -0.00208725124311838, -0.0025448468070855225, 0.00734365716323873, -0.08814867739838135, -0.08718573714894029, -0.1953277037574654, -0.014860102020762558, 0.3961530954697854, -0.0003226982765368857, 0.2703360319954768, 0.8738559685053039, -0.0003226982765368857, 0.18469787104533514, -0.0026513526875487485, 0.461592235475618, 0.2838859748699864, 0.1851649721298756, -0.007781008247466826, -0.5633258966559912, -0.2149578678339986, -0.005068721749888004, -0.06888527875762933, -0.007680690199368126, -0.05849564153806083, 0.02082191283107373], \"autobinx\": false, \"xbins\": {\"start\": -1.0, \"end\": 1.0, \"size\": 0.09999999999999998}}], {\"width\": 450, \"height\": 450}, {\"showLink\": true, \"linkText\": \"Export to plot.ly\"})});</script>"
      ],
      "text/vnd.plotly.v1+html": [
       "<div id=\"aecc555c-2a6f-491d-b1ed-7687bae7b8ee\" style=\"height: 450px; width: 450px;\" class=\"plotly-graph-div\"></div><script type=\"text/javascript\">require([\"plotly\"], function(Plotly) { window.PLOTLYENV=window.PLOTLYENV || {};window.PLOTLYENV.BASE_URL=\"https://plot.ly\";Plotly.newPlot(\"aecc555c-2a6f-491d-b1ed-7687bae7b8ee\", [{\"type\": \"histogram\", \"x\": [0.0076167867593488325, -0.06666369498886411, 0.21596128018953134, -0.07706577558762018, -0.0016820933676344623, -0.6552018905915851, 0.20827257898995505, -0.08300687668207386, -0.05862596646713283, -0.0003226982765368857, -0.021696106304971985, -0.08636859301783255, -0.00028316602537275317, 0.0026522815599370267, 0.9227509109124966, -5.0454536111245855e-08, 0.03466254060223595, 0.6422643162151984, -0.40439813891322574, -0.009191172419372232, -0.07061262383022536, -0.23322426423155285, 0.9091708751056629, -0.025399202265301214, -0.13781376816110177, -0.07561787732127148, -0.00208725124311838, -0.0025448468070855225, 0.00734365716323873, -0.08814867739838135, -0.08718573714894029, -0.1953277037574654, -0.014860102020762558, 0.3961530954697854, -0.0003226982765368857, 0.2703360319954768, 0.8738559685053039, -0.0003226982765368857, 0.18469787104533514, -0.0026513526875487485, 0.461592235475618, 0.2838859748699864, 0.1851649721298756, -0.007781008247466826, -0.5633258966559912, -0.2149578678339986, -0.005068721749888004, -0.06888527875762933, -0.007680690199368126, -0.05849564153806083, 0.02082191283107373], \"autobinx\": false, \"xbins\": {\"start\": -1.0, \"end\": 1.0, \"size\": 0.09999999999999998}}], {\"width\": 450, \"height\": 450}, {\"showLink\": true, \"linkText\": \"Export to plot.ly\"})});</script>"
      ]
     },
     "metadata": {},
     "output_type": "display_data"
    },
    {
     "data": {
      "text/markdown": [
       "The feature \"petal length\" is a very weak positive predictor for the instance                       \"Iris-setosa\" of class \"scientific name\".\n",
       "For data points centered around 1.53 the classification is weakly influenced. For data points centered around 1.53 the feature influences the classification weakly. For data points centered around 1.3 the influence on the classification is moderate. For data points centered around 1.17 the feature influences the classification very strongly."
      ],
      "text/plain": [
       "<IPython.core.display.Markdown object>"
      ]
     },
     "metadata": {},
     "output_type": "display_data"
    },
    {
     "name": "stderr",
     "output_type": "stream",
     "text": [
      "/home/iliricon/.virtualenvs/SimpleSPN/lib/python3.7/site-packages/sklearn/preprocessing/label.py:151: DeprecationWarning:\n",
      "\n",
      "The truth value of an empty array is ambiguous. Returning False, but in future this will result in an error. Use `array.size > 0` to check that an array is not empty.\n",
      "\n"
     ]
    },
    {
     "data": {
      "text/markdown": [
       "##### Predictive <class 'spn.structure.leaves.piecewise.PiecewiseLinear.PiecewiseLinear'> feature \"petal width\"\n",
       "\n"
      ],
      "text/plain": [
       "<IPython.core.display.Markdown object>"
      ]
     },
     "metadata": {},
     "output_type": "display_data"
    },
    {
     "data": {
      "application/vnd.plotly.v1+json": {
       "data": [
        {
         "autobinx": false,
         "type": "histogram",
         "x": [
          0.9998457441786011,
          -0.9384624934540523,
          -0.9583159138036405,
          -0.9668227041544999,
          0.24072876535901536,
          -0.6723218439068299,
          -0.07343571619836232,
          -0.893326308623329,
          -0.8270291439949939,
          0.9999989394451548,
          0.999675618742165,
          -0.9216118959085207,
          0.9999993995590062,
          0.9984461737401881,
          -0.0481398651257384,
          -9.744847181622414e-06,
          -0.9993362659448323,
          0.6420782600912939,
          0.02384466858263467,
          0.028732864925272786,
          0.9974154715468222,
          -0.5817866565365599,
          -0.008325070985573295,
          -0.10895778323874376,
          -0.9208365390903993,
          -0.8322810423928814,
          -0.004004373003393578,
          0.9999838600744477,
          0.9999556244723615,
          -0.977636338026983,
          -0.9660350247295972,
          -0.5302658354299875,
          0.9501605048054202,
          0.78886421537319,
          0.9999989394451548,
          -0.804146025499289,
          0.346518788510838,
          0.9999989394451548,
          -0.8181435210316856,
          0.999343387883925,
          -0.043753101448329855,
          -0.1334394522995683,
          -0.8207173844180998,
          -0.0769977631461847,
          -0.019407001148483958,
          -0.49040786597365665,
          0.9713546523929523,
          -0.969012484191733,
          0.999909714374859,
          -0.8239094980410078,
          0.999667855186423
         ],
         "xbins": {
          "end": 1,
          "size": 0.09999999999999998,
          "start": -1
         }
        }
       ],
       "layout": {
        "height": 450,
        "width": 450
       }
      },
      "text/html": [
       "<div id=\"cc551671-2d8c-4bb5-a536-0819795612ce\" style=\"height: 450px; width: 450px;\" class=\"plotly-graph-div\"></div><script type=\"text/javascript\">require([\"plotly\"], function(Plotly) { window.PLOTLYENV=window.PLOTLYENV || {};window.PLOTLYENV.BASE_URL=\"https://plot.ly\";Plotly.newPlot(\"cc551671-2d8c-4bb5-a536-0819795612ce\", [{\"type\": \"histogram\", \"x\": [0.9998457441786011, -0.9384624934540523, -0.9583159138036405, -0.9668227041544999, 0.24072876535901536, -0.6723218439068299, -0.07343571619836232, -0.893326308623329, -0.8270291439949939, 0.9999989394451548, 0.999675618742165, -0.9216118959085207, 0.9999993995590062, 0.9984461737401881, -0.0481398651257384, -9.744847181622414e-06, -0.9993362659448323, 0.6420782600912939, 0.02384466858263467, 0.028732864925272786, 0.9974154715468222, -0.5817866565365599, -0.008325070985573295, -0.10895778323874376, -0.9208365390903993, -0.8322810423928814, -0.004004373003393578, 0.9999838600744477, 0.9999556244723615, -0.977636338026983, -0.9660350247295972, -0.5302658354299875, 0.9501605048054202, 0.78886421537319, 0.9999989394451548, -0.804146025499289, 0.346518788510838, 0.9999989394451548, -0.8181435210316856, 0.999343387883925, -0.043753101448329855, -0.1334394522995683, -0.8207173844180998, -0.0769977631461847, -0.019407001148483958, -0.49040786597365665, 0.9713546523929523, -0.969012484191733, 0.999909714374859, -0.8239094980410078, 0.999667855186423], \"autobinx\": false, \"xbins\": {\"start\": -1.0, \"end\": 1.0, \"size\": 0.09999999999999998}}], {\"width\": 450, \"height\": 450}, {\"showLink\": true, \"linkText\": \"Export to plot.ly\"})});</script>"
      ],
      "text/vnd.plotly.v1+html": [
       "<div id=\"cc551671-2d8c-4bb5-a536-0819795612ce\" style=\"height: 450px; width: 450px;\" class=\"plotly-graph-div\"></div><script type=\"text/javascript\">require([\"plotly\"], function(Plotly) { window.PLOTLYENV=window.PLOTLYENV || {};window.PLOTLYENV.BASE_URL=\"https://plot.ly\";Plotly.newPlot(\"cc551671-2d8c-4bb5-a536-0819795612ce\", [{\"type\": \"histogram\", \"x\": [0.9998457441786011, -0.9384624934540523, -0.9583159138036405, -0.9668227041544999, 0.24072876535901536, -0.6723218439068299, -0.07343571619836232, -0.893326308623329, -0.8270291439949939, 0.9999989394451548, 0.999675618742165, -0.9216118959085207, 0.9999993995590062, 0.9984461737401881, -0.0481398651257384, -9.744847181622414e-06, -0.9993362659448323, 0.6420782600912939, 0.02384466858263467, 0.028732864925272786, 0.9974154715468222, -0.5817866565365599, -0.008325070985573295, -0.10895778323874376, -0.9208365390903993, -0.8322810423928814, -0.004004373003393578, 0.9999838600744477, 0.9999556244723615, -0.977636338026983, -0.9660350247295972, -0.5302658354299875, 0.9501605048054202, 0.78886421537319, 0.9999989394451548, -0.804146025499289, 0.346518788510838, 0.9999989394451548, -0.8181435210316856, 0.999343387883925, -0.043753101448329855, -0.1334394522995683, -0.8207173844180998, -0.0769977631461847, -0.019407001148483958, -0.49040786597365665, 0.9713546523929523, -0.969012484191733, 0.999909714374859, -0.8239094980410078, 0.999667855186423], \"autobinx\": false, \"xbins\": {\"start\": -1.0, \"end\": 1.0, \"size\": 0.09999999999999998}}], {\"width\": 450, \"height\": 450}, {\"showLink\": true, \"linkText\": \"Export to plot.ly\"})});</script>"
      ]
     },
     "metadata": {},
     "output_type": "display_data"
    },
    {
     "data": {
      "text/markdown": [
       "The feature \"petal width\" is a very weak negative predictor for the instance                       \"Iris-setosa\" of class \"scientific name\".\n",
       "For data points centered around 0.21 the feature influences the classification very strongly. For data points centered around 0.4 the impact of the feature on the classification is strong but weakly for points centered around 0.36. For data points centered around 0.27 the influence on the classification is weak. For data points centered around 0.21 the feature influences the classification very strongly."
      ],
      "text/plain": [
       "<IPython.core.display.Markdown object>"
      ]
     },
     "metadata": {},
     "output_type": "display_data"
    },
    {
     "name": "stderr",
     "output_type": "stream",
     "text": [
      "/home/iliricon/.virtualenvs/SimpleSPN/lib/python3.7/site-packages/sklearn/preprocessing/label.py:151: DeprecationWarning:\n",
      "\n",
      "The truth value of an empty array is ambiguous. Returning False, but in future this will result in an error. Use `array.size > 0` to check that an array is not empty.\n",
      "\n"
     ]
    },
    {
     "data": {
      "text/markdown": [
       "#### Class \"scientific name\": \"Iris-versicolor\""
      ],
      "text/plain": [
       "<IPython.core.display.Markdown object>"
      ]
     },
     "metadata": {},
     "output_type": "display_data"
    },
    {
     "name": "stderr",
     "output_type": "stream",
     "text": [
      "/home/iliricon/.virtualenvs/SimpleSPN/lib/python3.7/site-packages/sklearn/preprocessing/label.py:151: DeprecationWarning:\n",
      "\n",
      "The truth value of an empty array is ambiguous. Returning False, but in future this will result in an error. Use `array.size > 0` to check that an array is not empty.\n",
      "\n"
     ]
    },
    {
     "data": {
      "text/markdown": [
       "##### Predictive <class 'spn.structure.leaves.piecewise.PiecewiseLinear.PiecewiseLinear'> feature \"sepal length\"\n",
       "\n"
      ],
      "text/plain": [
       "<IPython.core.display.Markdown object>"
      ]
     },
     "metadata": {},
     "output_type": "display_data"
    },
    {
     "data": {
      "application/vnd.plotly.v1+json": {
       "data": [
        {
         "autobinx": false,
         "type": "histogram",
         "x": [
          -0.9984606526090847,
          0.24405013386558122,
          -0.7981786004866194,
          0.19925222534278372,
          -0.41232862615486915,
          -0.007018235827536089,
          0.21519900826261018,
          -0.236031753171022,
          0.519737422174445,
          0.000809396329812586,
          0.0038891267569493427,
          -0.0069432401868318346,
          0.7843599930646693,
          -0.006675770167724402,
          -0.2890114531687126,
          -0.003359187343921136,
          -0.010312032544473833,
          0.06493466847930154,
          -0.10491426495438641,
          -0.9993735670034143,
          0.20005259484485502,
          -0.003969092862623957,
          0.0030647045357682866,
          -0.2316686167087072,
          -0.7443684198679981,
          -0.23648864656873114,
          0.8590535764759762,
          -0.004956661564876066,
          0.22793572194178158,
          -0.00010296120175980097,
          -0.30551508268027394,
          0.0019959988258968363,
          0.08218933234652284,
          -0.5116500212133539,
          0.14930452649899498,
          -0.004544083699189606,
          0.3020097520315141,
          0.17408020445134484,
          0.8107165612961235,
          -0.2962212222985139,
          0.0016041897481644083,
          -0.2607091570031573,
          -0.005375348924300443,
          -0.15832484555598247,
          0.005084051256155288,
          -0.00013392447217228773,
          -0.32617373838577013,
          -0.04837238932003556,
          -0.6764218319677248,
          0.06293123871499655
         ],
         "xbins": {
          "end": 1,
          "size": 0.09999999999999998,
          "start": -1
         }
        }
       ],
       "layout": {
        "height": 450,
        "width": 450
       }
      },
      "text/html": [
       "<div id=\"fd0e0b8f-ee68-4c14-9db0-4728581e50fd\" style=\"height: 450px; width: 450px;\" class=\"plotly-graph-div\"></div><script type=\"text/javascript\">require([\"plotly\"], function(Plotly) { window.PLOTLYENV=window.PLOTLYENV || {};window.PLOTLYENV.BASE_URL=\"https://plot.ly\";Plotly.newPlot(\"fd0e0b8f-ee68-4c14-9db0-4728581e50fd\", [{\"type\": \"histogram\", \"x\": [-0.9984606526090847, 0.24405013386558122, -0.7981786004866194, 0.19925222534278372, -0.41232862615486915, -0.007018235827536089, 0.21519900826261018, -0.236031753171022, 0.519737422174445, 0.000809396329812586, 0.0038891267569493427, -0.0069432401868318346, 0.7843599930646693, -0.006675770167724402, -0.2890114531687126, -0.003359187343921136, -0.010312032544473833, 0.06493466847930154, -0.10491426495438641, -0.9993735670034143, 0.20005259484485502, -0.003969092862623957, 0.0030647045357682866, -0.2316686167087072, -0.7443684198679981, -0.23648864656873114, 0.8590535764759762, -0.004956661564876066, 0.22793572194178158, -0.00010296120175980097, -0.30551508268027394, 0.0019959988258968363, 0.08218933234652284, -0.5116500212133539, 0.14930452649899498, -0.004544083699189606, 0.3020097520315141, 0.17408020445134484, 0.8107165612961235, -0.2962212222985139, 0.0016041897481644083, -0.2607091570031573, -0.005375348924300443, -0.15832484555598247, 0.005084051256155288, -0.00013392447217228773, -0.32617373838577013, -0.04837238932003556, -0.6764218319677248, 0.06293123871499655], \"autobinx\": false, \"xbins\": {\"start\": -1.0, \"end\": 1.0, \"size\": 0.09999999999999998}}], {\"width\": 450, \"height\": 450}, {\"showLink\": true, \"linkText\": \"Export to plot.ly\"})});</script>"
      ],
      "text/vnd.plotly.v1+html": [
       "<div id=\"fd0e0b8f-ee68-4c14-9db0-4728581e50fd\" style=\"height: 450px; width: 450px;\" class=\"plotly-graph-div\"></div><script type=\"text/javascript\">require([\"plotly\"], function(Plotly) { window.PLOTLYENV=window.PLOTLYENV || {};window.PLOTLYENV.BASE_URL=\"https://plot.ly\";Plotly.newPlot(\"fd0e0b8f-ee68-4c14-9db0-4728581e50fd\", [{\"type\": \"histogram\", \"x\": [-0.9984606526090847, 0.24405013386558122, -0.7981786004866194, 0.19925222534278372, -0.41232862615486915, -0.007018235827536089, 0.21519900826261018, -0.236031753171022, 0.519737422174445, 0.000809396329812586, 0.0038891267569493427, -0.0069432401868318346, 0.7843599930646693, -0.006675770167724402, -0.2890114531687126, -0.003359187343921136, -0.010312032544473833, 0.06493466847930154, -0.10491426495438641, -0.9993735670034143, 0.20005259484485502, -0.003969092862623957, 0.0030647045357682866, -0.2316686167087072, -0.7443684198679981, -0.23648864656873114, 0.8590535764759762, -0.004956661564876066, 0.22793572194178158, -0.00010296120175980097, -0.30551508268027394, 0.0019959988258968363, 0.08218933234652284, -0.5116500212133539, 0.14930452649899498, -0.004544083699189606, 0.3020097520315141, 0.17408020445134484, 0.8107165612961235, -0.2962212222985139, 0.0016041897481644083, -0.2607091570031573, -0.005375348924300443, -0.15832484555598247, 0.005084051256155288, -0.00013392447217228773, -0.32617373838577013, -0.04837238932003556, -0.6764218319677248, 0.06293123871499655], \"autobinx\": false, \"xbins\": {\"start\": -1.0, \"end\": 1.0, \"size\": 0.09999999999999998}}], {\"width\": 450, \"height\": 450}, {\"showLink\": true, \"linkText\": \"Export to plot.ly\"})});</script>"
      ]
     },
     "metadata": {},
     "output_type": "display_data"
    },
    {
     "data": {
      "text/markdown": [
       "The feature \"sepal length\" is a weak negative predictor for the instance                       \"Iris-versicolor\" of class \"scientific name\".\n",
       "For data points centered around 6.67 the impact on the classification is very strong. For data points centered around 6.53 the influence of it on the classification is strong. The feature influences the classification moderately for data points centered around 6.02 and weakly for points centered around 5.79. The feature influences the classification weakly for data points centered around 5.87. The feature influences the classification very strongly for data points centered around 6.07."
      ],
      "text/plain": [
       "<IPython.core.display.Markdown object>"
      ]
     },
     "metadata": {},
     "output_type": "display_data"
    },
    {
     "name": "stderr",
     "output_type": "stream",
     "text": [
      "/home/iliricon/.virtualenvs/SimpleSPN/lib/python3.7/site-packages/sklearn/preprocessing/label.py:151: DeprecationWarning:\n",
      "\n",
      "The truth value of an empty array is ambiguous. Returning False, but in future this will result in an error. Use `array.size > 0` to check that an array is not empty.\n",
      "\n"
     ]
    },
    {
     "data": {
      "text/markdown": [
       "##### Predictive <class 'spn.structure.leaves.piecewise.PiecewiseLinear.PiecewiseLinear'> feature \"sepal width\"\n",
       "\n"
      ],
      "text/plain": [
       "<IPython.core.display.Markdown object>"
      ]
     },
     "metadata": {},
     "output_type": "display_data"
    },
    {
     "data": {
      "application/vnd.plotly.v1+json": {
       "data": [
        {
         "autobinx": false,
         "type": "histogram",
         "x": [
          -0.04435037567821591,
          -0.592014213969876,
          -0.2809066697844964,
          0.8431101645232375,
          0.26735571288204163,
          0.00814849215066134,
          -0.8041953946015324,
          0.10895175783709186,
          0.03807988163259275,
          0.005557797972970558,
          -0.9998085056060231,
          0.05334073145306224,
          0.18664753970405853,
          -0.03674982052701078,
          -0.28788230976924684,
          -0.0979879235996757,
          0.0019820148267456704,
          0.9901766604361181,
          0.27473676048863427,
          0.003984689994764005,
          0.6250238093018021,
          0.0026967651067336122,
          -0.022542430300219386,
          0.09122068963199408,
          0.19839239315172338,
          -0.002958212606150757,
          0.09982339720756604,
          -0.0041550328237804,
          0.7294440603652615,
          -8.125824766457876e-05,
          0.056132672781280056,
          -0.07174931701931367,
          -0.9944971350347159,
          -0.5096622501539683,
          0.5213595009790354,
          -0.9998727288638132,
          0.5808016490527506,
          0.2393734119936679,
          0.17215656210359823,
          0.38634805928547733,
          0.00031359550358112977,
          0.06888231652889558,
          -0.9997770284125491,
          -0.854013668207299,
          -0.03871269350670707,
          0.003209008191897712,
          0.07030176671403955,
          0.3381429674201724,
          0.5908649076896579,
          -0.07226370246407822
         ],
         "xbins": {
          "end": 1,
          "size": 0.09999999999999998,
          "start": -1
         }
        }
       ],
       "layout": {
        "height": 450,
        "width": 450
       }
      },
      "text/html": [
       "<div id=\"b0c368a1-8a68-41a9-b69e-28538c4ac8e9\" style=\"height: 450px; width: 450px;\" class=\"plotly-graph-div\"></div><script type=\"text/javascript\">require([\"plotly\"], function(Plotly) { window.PLOTLYENV=window.PLOTLYENV || {};window.PLOTLYENV.BASE_URL=\"https://plot.ly\";Plotly.newPlot(\"b0c368a1-8a68-41a9-b69e-28538c4ac8e9\", [{\"type\": \"histogram\", \"x\": [-0.04435037567821591, -0.592014213969876, -0.2809066697844964, 0.8431101645232375, 0.26735571288204163, 0.00814849215066134, -0.8041953946015324, 0.10895175783709186, 0.03807988163259275, 0.005557797972970558, -0.9998085056060231, 0.05334073145306224, 0.18664753970405853, -0.03674982052701078, -0.28788230976924684, -0.0979879235996757, 0.0019820148267456704, 0.9901766604361181, 0.27473676048863427, 0.003984689994764005, 0.6250238093018021, 0.0026967651067336122, -0.022542430300219386, 0.09122068963199408, 0.19839239315172338, -0.002958212606150757, 0.09982339720756604, -0.0041550328237804, 0.7294440603652615, -8.125824766457876e-05, 0.056132672781280056, -0.07174931701931367, -0.9944971350347159, -0.5096622501539683, 0.5213595009790354, -0.9998727288638132, 0.5808016490527506, 0.2393734119936679, 0.17215656210359823, 0.38634805928547733, 0.00031359550358112977, 0.06888231652889558, -0.9997770284125491, -0.854013668207299, -0.03871269350670707, 0.003209008191897712, 0.07030176671403955, 0.3381429674201724, 0.5908649076896579, -0.07226370246407822], \"autobinx\": false, \"xbins\": {\"start\": -1.0, \"end\": 1.0, \"size\": 0.09999999999999998}}], {\"width\": 450, \"height\": 450}, {\"showLink\": true, \"linkText\": \"Export to plot.ly\"})});</script>"
      ],
      "text/vnd.plotly.v1+html": [
       "<div id=\"b0c368a1-8a68-41a9-b69e-28538c4ac8e9\" style=\"height: 450px; width: 450px;\" class=\"plotly-graph-div\"></div><script type=\"text/javascript\">require([\"plotly\"], function(Plotly) { window.PLOTLYENV=window.PLOTLYENV || {};window.PLOTLYENV.BASE_URL=\"https://plot.ly\";Plotly.newPlot(\"b0c368a1-8a68-41a9-b69e-28538c4ac8e9\", [{\"type\": \"histogram\", \"x\": [-0.04435037567821591, -0.592014213969876, -0.2809066697844964, 0.8431101645232375, 0.26735571288204163, 0.00814849215066134, -0.8041953946015324, 0.10895175783709186, 0.03807988163259275, 0.005557797972970558, -0.9998085056060231, 0.05334073145306224, 0.18664753970405853, -0.03674982052701078, -0.28788230976924684, -0.0979879235996757, 0.0019820148267456704, 0.9901766604361181, 0.27473676048863427, 0.003984689994764005, 0.6250238093018021, 0.0026967651067336122, -0.022542430300219386, 0.09122068963199408, 0.19839239315172338, -0.002958212606150757, 0.09982339720756604, -0.0041550328237804, 0.7294440603652615, -8.125824766457876e-05, 0.056132672781280056, -0.07174931701931367, -0.9944971350347159, -0.5096622501539683, 0.5213595009790354, -0.9998727288638132, 0.5808016490527506, 0.2393734119936679, 0.17215656210359823, 0.38634805928547733, 0.00031359550358112977, 0.06888231652889558, -0.9997770284125491, -0.854013668207299, -0.03871269350670707, 0.003209008191897712, 0.07030176671403955, 0.3381429674201724, 0.5908649076896579, -0.07226370246407822], \"autobinx\": false, \"xbins\": {\"start\": -1.0, \"end\": 1.0, \"size\": 0.09999999999999998}}], {\"width\": 450, \"height\": 450}, {\"showLink\": true, \"linkText\": \"Export to plot.ly\"})});</script>"
      ]
     },
     "metadata": {},
     "output_type": "display_data"
    },
    {
     "data": {
      "text/markdown": [
       "The feature \"sepal width\" is a very weak negative predictor for the instance                       \"Iris-versicolor\" of class \"scientific name\".\n",
       "The influence of it on the classification is very strong for data points centered around 3.1. For data points centered around 2.89 the influence on the classification is weak. For data points centered around 2.69 the classification is weakly influenced. For data points centered around 2.6 the feature influences the classification moderately. For data points centered around 2.46 the influence of it on the classification is strong."
      ],
      "text/plain": [
       "<IPython.core.display.Markdown object>"
      ]
     },
     "metadata": {},
     "output_type": "display_data"
    },
    {
     "name": "stderr",
     "output_type": "stream",
     "text": [
      "/home/iliricon/.virtualenvs/SimpleSPN/lib/python3.7/site-packages/sklearn/preprocessing/label.py:151: DeprecationWarning:\n",
      "\n",
      "The truth value of an empty array is ambiguous. Returning False, but in future this will result in an error. Use `array.size > 0` to check that an array is not empty.\n",
      "\n"
     ]
    },
    {
     "data": {
      "text/markdown": [
       "##### Predictive <class 'spn.structure.leaves.piecewise.PiecewiseLinear.PiecewiseLinear'> feature \"petal length\"\n",
       "\n"
      ],
      "text/plain": [
       "<IPython.core.display.Markdown object>"
      ]
     },
     "metadata": {},
     "output_type": "display_data"
    },
    {
     "data": {
      "application/vnd.plotly.v1+json": {
       "data": [
        {
         "autobinx": false,
         "type": "histogram",
         "x": [
          -0.02195440739652155,
          0.6170336878154397,
          -0.4255859278905414,
          0.23836822874851768,
          -0.4007127987735357,
          -0.9994044127167575,
          -0.20767428148552705,
          -0.18426829345791898,
          0.3109466965702995,
          0.00011811115676373452,
          -0.009624265876116776,
          0.0019173116989030735,
          -0.3908937019571598,
          0.999159816577701,
          0.8807915429356236,
          0.7101264354909749,
          -0.011625608482547909,
          0.09936632579493052,
          0.22681972409873363,
          0.0198122416813379,
          -0.6193201875633659,
          -0.004619918178072041,
          0.999734323646366,
          0.9343347298205518,
          -0.48006118424325445,
          -0.6977592759926734,
          0.36339968350166957,
          0.00031617803375784214,
          0.4285461106190102,
          -0.00018243134561754732,
          0.459710960147384,
          0.7215111753673277,
          0.039076612053508375,
          -0.37321211192879816,
          0.5928488779354459,
          -0.007321840142340222,
          0.360683548045115,
          -0.8051769523604573,
          -0.32383985164197815,
          0.33533436129121014,
          0.01968693638100718,
          -0.5620697013624378,
          -0.009738709562087375,
          -0.28929465945450905,
          0.9992304449569046,
          0.0007400773520116103,
          -0.448451919443837,
          0.43217480647651346,
          -0.34614713190854124,
          0.32369056197470714
         ],
         "xbins": {
          "end": 1,
          "size": 0.09999999999999998,
          "start": -1
         }
        }
       ],
       "layout": {
        "height": 450,
        "width": 450
       }
      },
      "text/html": [
       "<div id=\"d9015e5d-9268-495b-90b0-2a2bc1fb1393\" style=\"height: 450px; width: 450px;\" class=\"plotly-graph-div\"></div><script type=\"text/javascript\">require([\"plotly\"], function(Plotly) { window.PLOTLYENV=window.PLOTLYENV || {};window.PLOTLYENV.BASE_URL=\"https://plot.ly\";Plotly.newPlot(\"d9015e5d-9268-495b-90b0-2a2bc1fb1393\", [{\"type\": \"histogram\", \"x\": [-0.02195440739652155, 0.6170336878154397, -0.4255859278905414, 0.23836822874851768, -0.4007127987735357, -0.9994044127167575, -0.20767428148552705, -0.18426829345791898, 0.3109466965702995, 0.00011811115676373452, -0.009624265876116776, 0.0019173116989030735, -0.3908937019571598, 0.999159816577701, 0.8807915429356236, 0.7101264354909749, -0.011625608482547909, 0.09936632579493052, 0.22681972409873363, 0.0198122416813379, -0.6193201875633659, -0.004619918178072041, 0.999734323646366, 0.9343347298205518, -0.48006118424325445, -0.6977592759926734, 0.36339968350166957, 0.00031617803375784214, 0.4285461106190102, -0.00018243134561754732, 0.459710960147384, 0.7215111753673277, 0.039076612053508375, -0.37321211192879816, 0.5928488779354459, -0.007321840142340222, 0.360683548045115, -0.8051769523604573, -0.32383985164197815, 0.33533436129121014, 0.01968693638100718, -0.5620697013624378, -0.009738709562087375, -0.28929465945450905, 0.9992304449569046, 0.0007400773520116103, -0.448451919443837, 0.43217480647651346, -0.34614713190854124, 0.32369056197470714], \"autobinx\": false, \"xbins\": {\"start\": -1.0, \"end\": 1.0, \"size\": 0.09999999999999998}}], {\"width\": 450, \"height\": 450}, {\"showLink\": true, \"linkText\": \"Export to plot.ly\"})});</script>"
      ],
      "text/vnd.plotly.v1+html": [
       "<div id=\"d9015e5d-9268-495b-90b0-2a2bc1fb1393\" style=\"height: 450px; width: 450px;\" class=\"plotly-graph-div\"></div><script type=\"text/javascript\">require([\"plotly\"], function(Plotly) { window.PLOTLYENV=window.PLOTLYENV || {};window.PLOTLYENV.BASE_URL=\"https://plot.ly\";Plotly.newPlot(\"d9015e5d-9268-495b-90b0-2a2bc1fb1393\", [{\"type\": \"histogram\", \"x\": [-0.02195440739652155, 0.6170336878154397, -0.4255859278905414, 0.23836822874851768, -0.4007127987735357, -0.9994044127167575, -0.20767428148552705, -0.18426829345791898, 0.3109466965702995, 0.00011811115676373452, -0.009624265876116776, 0.0019173116989030735, -0.3908937019571598, 0.999159816577701, 0.8807915429356236, 0.7101264354909749, -0.011625608482547909, 0.09936632579493052, 0.22681972409873363, 0.0198122416813379, -0.6193201875633659, -0.004619918178072041, 0.999734323646366, 0.9343347298205518, -0.48006118424325445, -0.6977592759926734, 0.36339968350166957, 0.00031617803375784214, 0.4285461106190102, -0.00018243134561754732, 0.459710960147384, 0.7215111753673277, 0.039076612053508375, -0.37321211192879816, 0.5928488779354459, -0.007321840142340222, 0.360683548045115, -0.8051769523604573, -0.32383985164197815, 0.33533436129121014, 0.01968693638100718, -0.5620697013624378, -0.009738709562087375, -0.28929465945450905, 0.9992304449569046, 0.0007400773520116103, -0.448451919443837, 0.43217480647651346, -0.34614713190854124, 0.32369056197470714], \"autobinx\": false, \"xbins\": {\"start\": -1.0, \"end\": 1.0, \"size\": 0.09999999999999998}}], {\"width\": 450, \"height\": 450}, {\"showLink\": true, \"linkText\": \"Export to plot.ly\"})});</script>"
      ]
     },
     "metadata": {},
     "output_type": "display_data"
    },
    {
     "data": {
      "text/markdown": [
       "The feature \"petal length\" is a weak positive predictor for the instance                       \"Iris-versicolor\" of class \"scientific name\".\n",
       "For data points centered around 4.7 the impact on the classification is strong. The classification is moderately influenced for data points centered around 4.69. The impact of the feature on the classification is weak for data points centered around 4.33 but weakly for points centered around 3.82. The feature influences the classification moderately for data points centered around 4.18 and strongly for points centered around 4.47. For data points centered around 4.2 the impact of the feature on the classification is very strong."
      ],
      "text/plain": [
       "<IPython.core.display.Markdown object>"
      ]
     },
     "metadata": {},
     "output_type": "display_data"
    },
    {
     "name": "stderr",
     "output_type": "stream",
     "text": [
      "/home/iliricon/.virtualenvs/SimpleSPN/lib/python3.7/site-packages/sklearn/preprocessing/label.py:151: DeprecationWarning:\n",
      "\n",
      "The truth value of an empty array is ambiguous. Returning False, but in future this will result in an error. Use `array.size > 0` to check that an array is not empty.\n",
      "\n"
     ]
    },
    {
     "data": {
      "text/markdown": [
       "##### Predictive <class 'spn.structure.leaves.piecewise.PiecewiseLinear.PiecewiseLinear'> feature \"petal width\"\n",
       "\n"
      ],
      "text/plain": [
       "<IPython.core.display.Markdown object>"
      ]
     },
     "metadata": {},
     "output_type": "display_data"
    },
    {
     "data": {
      "application/vnd.plotly.v1+json": {
       "data": [
        {
         "autobinx": false,
         "type": "histogram",
         "x": [
          -0.02504742231267316,
          -0.4574146157685612,
          -0.32074753713372817,
          -0.43891273471709896,
          -0.7732627494853567,
          0.0327897283278278,
          -0.5136443779055161,
          0.9478732626175969,
          -0.7948176435499709,
          0.9999842207800219,
          -0.016589162645080032,
          0.9985503901654686,
          -0.44400924649408,
          -0.01686848304724635,
          -0.24042132507811395,
          -0.6972141194108844,
          0.9998772818848515,
          -0.07389183483359606,
          0.928474836603053,
          -0.02905289830771189,
          -0.43100661523714695,
          0.9999778148118261,
          0.0037052052050019837,
          -0.2550040204908422,
          -0.4196395753807259,
          -0.6761629698441395,
          -0.34641436480703425,
          0.9999790334001087,
          0.4819801868687533,
          0.9999999747574457,
          0.8319708470984218,
          -0.6886724005766501,
          -0.05189778845571905,
          -0.5823842082938158,
          0.5953340549947439,
          -0.013426393212490357,
          -0.6643545230560685,
          0.5138934981454947,
          -0.45632063930241024,
          0.8065599981921593,
          0.999804857344193,
          -0.7818974438726961,
          0.01794872192051906,
          -0.40237109464508936,
          -0.0037413440775989123,
          -0.9999945682933349,
          -0.829191913812161,
          -0.8345923449102198,
          -0.27113525991617177,
          -0.9412980593778345
         ],
         "xbins": {
          "end": 1,
          "size": 0.09999999999999998,
          "start": -1
         }
        }
       ],
       "layout": {
        "height": 450,
        "width": 450
       }
      },
      "text/html": [
       "<div id=\"fc7c3df0-4309-4e44-aa3f-09ce5071d546\" style=\"height: 450px; width: 450px;\" class=\"plotly-graph-div\"></div><script type=\"text/javascript\">require([\"plotly\"], function(Plotly) { window.PLOTLYENV=window.PLOTLYENV || {};window.PLOTLYENV.BASE_URL=\"https://plot.ly\";Plotly.newPlot(\"fc7c3df0-4309-4e44-aa3f-09ce5071d546\", [{\"type\": \"histogram\", \"x\": [-0.02504742231267316, -0.4574146157685612, -0.32074753713372817, -0.43891273471709896, -0.7732627494853567, 0.0327897283278278, -0.5136443779055161, 0.9478732626175969, -0.7948176435499709, 0.9999842207800219, -0.016589162645080032, 0.9985503901654686, -0.44400924649408, -0.01686848304724635, -0.24042132507811395, -0.6972141194108844, 0.9998772818848515, -0.07389183483359606, 0.928474836603053, -0.02905289830771189, -0.43100661523714695, 0.9999778148118261, 0.0037052052050019837, -0.2550040204908422, -0.4196395753807259, -0.6761629698441395, -0.34641436480703425, 0.9999790334001087, 0.4819801868687533, 0.9999999747574457, 0.8319708470984218, -0.6886724005766501, -0.05189778845571905, -0.5823842082938158, 0.5953340549947439, -0.013426393212490357, -0.6643545230560685, 0.5138934981454947, -0.45632063930241024, 0.8065599981921593, 0.999804857344193, -0.7818974438726961, 0.01794872192051906, -0.40237109464508936, -0.0037413440775989123, -0.9999945682933349, -0.829191913812161, -0.8345923449102198, -0.27113525991617177, -0.9412980593778345], \"autobinx\": false, \"xbins\": {\"start\": -1.0, \"end\": 1.0, \"size\": 0.09999999999999998}}], {\"width\": 450, \"height\": 450}, {\"showLink\": true, \"linkText\": \"Export to plot.ly\"})});</script>"
      ],
      "text/vnd.plotly.v1+html": [
       "<div id=\"fc7c3df0-4309-4e44-aa3f-09ce5071d546\" style=\"height: 450px; width: 450px;\" class=\"plotly-graph-div\"></div><script type=\"text/javascript\">require([\"plotly\"], function(Plotly) { window.PLOTLYENV=window.PLOTLYENV || {};window.PLOTLYENV.BASE_URL=\"https://plot.ly\";Plotly.newPlot(\"fc7c3df0-4309-4e44-aa3f-09ce5071d546\", [{\"type\": \"histogram\", \"x\": [-0.02504742231267316, -0.4574146157685612, -0.32074753713372817, -0.43891273471709896, -0.7732627494853567, 0.0327897283278278, -0.5136443779055161, 0.9478732626175969, -0.7948176435499709, 0.9999842207800219, -0.016589162645080032, 0.9985503901654686, -0.44400924649408, -0.01686848304724635, -0.24042132507811395, -0.6972141194108844, 0.9998772818848515, -0.07389183483359606, 0.928474836603053, -0.02905289830771189, -0.43100661523714695, 0.9999778148118261, 0.0037052052050019837, -0.2550040204908422, -0.4196395753807259, -0.6761629698441395, -0.34641436480703425, 0.9999790334001087, 0.4819801868687533, 0.9999999747574457, 0.8319708470984218, -0.6886724005766501, -0.05189778845571905, -0.5823842082938158, 0.5953340549947439, -0.013426393212490357, -0.6643545230560685, 0.5138934981454947, -0.45632063930241024, 0.8065599981921593, 0.999804857344193, -0.7818974438726961, 0.01794872192051906, -0.40237109464508936, -0.0037413440775989123, -0.9999945682933349, -0.829191913812161, -0.8345923449102198, -0.27113525991617177, -0.9412980593778345], \"autobinx\": false, \"xbins\": {\"start\": -1.0, \"end\": 1.0, \"size\": 0.09999999999999998}}], {\"width\": 450, \"height\": 450}, {\"showLink\": true, \"linkText\": \"Export to plot.ly\"})});</script>"
      ]
     },
     "metadata": {},
     "output_type": "display_data"
    },
    {
     "data": {
      "text/markdown": [
       "The feature \"petal width\" is a very weak negative predictor for the instance                       \"Iris-versicolor\" of class \"scientific name\".\n",
       "For data points centered around 1.44 the feature influences the classification very strongly. For data points centered around 1.52 the feature influences the classification strongly. The impact on the classification is moderate for data points centered around 1.42. The classification is weakly influenced by it for data points centered around 1.4. The classification is weakly influenced for data points centered around 1.27 but very strongly for points centered around 1.09."
      ],
      "text/plain": [
       "<IPython.core.display.Markdown object>"
      ]
     },
     "metadata": {},
     "output_type": "display_data"
    },
    {
     "name": "stderr",
     "output_type": "stream",
     "text": [
      "/home/iliricon/.virtualenvs/SimpleSPN/lib/python3.7/site-packages/sklearn/preprocessing/label.py:151: DeprecationWarning:\n",
      "\n",
      "The truth value of an empty array is ambiguous. Returning False, but in future this will result in an error. Use `array.size > 0` to check that an array is not empty.\n",
      "\n"
     ]
    },
    {
     "data": {
      "text/markdown": [
       "#### Class \"scientific name\": \"Iris-virginica\""
      ],
      "text/plain": [
       "<IPython.core.display.Markdown object>"
      ]
     },
     "metadata": {},
     "output_type": "display_data"
    },
    {
     "name": "stderr",
     "output_type": "stream",
     "text": [
      "/home/iliricon/.virtualenvs/SimpleSPN/lib/python3.7/site-packages/sklearn/preprocessing/label.py:151: DeprecationWarning:\n",
      "\n",
      "The truth value of an empty array is ambiguous. Returning False, but in future this will result in an error. Use `array.size > 0` to check that an array is not empty.\n",
      "\n"
     ]
    },
    {
     "data": {
      "text/markdown": [
       "##### Predictive <class 'spn.structure.leaves.piecewise.PiecewiseLinear.PiecewiseLinear'> feature \"sepal length\"\n",
       "\n"
      ],
      "text/plain": [
       "<IPython.core.display.Markdown object>"
      ]
     },
     "metadata": {},
     "output_type": "display_data"
    },
    {
     "data": {
      "application/vnd.plotly.v1+json": {
       "data": [
        {
         "autobinx": false,
         "type": "histogram",
         "x": [
          0.1748665606831045,
          0.31487867090539395,
          6.098178475349994e-08,
          0.740049470200442,
          0.5389225287082996,
          0.044255131072940365,
          0.4624382042798537,
          -0.6041115606099673,
          0.309546913582786,
          -0.04619354686724337,
          2.4569877657742608e-08,
          0.012604932297288256,
          -0.7918511491749883,
          -0.8980415832129872,
          0.8724106393314436,
          0.17228248780622932,
          0.5016183115562839,
          0.018652077405978455,
          -0.13498206434026358,
          -4.835060502480642e-08,
          0.04927041768044475,
          -0.9996237401754323,
          0.9986242704496613,
          -0.5498122340376284,
          -0.6849570597248124,
          -0.4194769797980833,
          0.373065635557237,
          0.0011460466094698493,
          -0.0061352281354456846,
          0.6361218818834562,
          0.022855864547545898,
          -0.29643983840503685,
          -0.9999999999999425,
          0.6382998396231228,
          -0.25391511551887375,
          -0.6541640694891026,
          0.042363667868982054,
          0.02727560956016991,
          -0.9998265541539182,
          -0.44306026561987644,
          -0.8676776946242983,
          0.740049470200442,
          -0.5898678085791101,
          -4.921186413719561e-08,
          -0.4064873256559469,
          -0.9024363631531304,
          0.2861508318000483,
          0.7561697051948687,
          0.012569291649259988
         ],
         "xbins": {
          "end": 1,
          "size": 0.09999999999999998,
          "start": -1
         }
        }
       ],
       "layout": {
        "height": 450,
        "width": 450
       }
      },
      "text/html": [
       "<div id=\"b288130e-47f3-4715-a3cc-04b49bc701a6\" style=\"height: 450px; width: 450px;\" class=\"plotly-graph-div\"></div><script type=\"text/javascript\">require([\"plotly\"], function(Plotly) { window.PLOTLYENV=window.PLOTLYENV || {};window.PLOTLYENV.BASE_URL=\"https://plot.ly\";Plotly.newPlot(\"b288130e-47f3-4715-a3cc-04b49bc701a6\", [{\"type\": \"histogram\", \"x\": [0.1748665606831045, 0.31487867090539395, 6.098178475349994e-08, 0.740049470200442, 0.5389225287082996, 0.044255131072940365, 0.4624382042798537, -0.6041115606099673, 0.309546913582786, -0.04619354686724337, 2.4569877657742608e-08, 0.012604932297288256, -0.7918511491749883, -0.8980415832129872, 0.8724106393314436, 0.17228248780622932, 0.5016183115562839, 0.018652077405978455, -0.13498206434026358, -4.835060502480642e-08, 0.04927041768044475, -0.9996237401754323, 0.9986242704496613, -0.5498122340376284, -0.6849570597248124, -0.4194769797980833, 0.373065635557237, 0.0011460466094698493, -0.0061352281354456846, 0.6361218818834562, 0.022855864547545898, -0.29643983840503685, -0.9999999999999425, 0.6382998396231228, -0.25391511551887375, -0.6541640694891026, 0.042363667868982054, 0.02727560956016991, -0.9998265541539182, -0.44306026561987644, -0.8676776946242983, 0.740049470200442, -0.5898678085791101, -4.921186413719561e-08, -0.4064873256559469, -0.9024363631531304, 0.2861508318000483, 0.7561697051948687, 0.012569291649259988], \"autobinx\": false, \"xbins\": {\"start\": -1.0, \"end\": 1.0, \"size\": 0.09999999999999998}}], {\"width\": 450, \"height\": 450}, {\"showLink\": true, \"linkText\": \"Export to plot.ly\"})});</script>"
      ],
      "text/vnd.plotly.v1+html": [
       "<div id=\"b288130e-47f3-4715-a3cc-04b49bc701a6\" style=\"height: 450px; width: 450px;\" class=\"plotly-graph-div\"></div><script type=\"text/javascript\">require([\"plotly\"], function(Plotly) { window.PLOTLYENV=window.PLOTLYENV || {};window.PLOTLYENV.BASE_URL=\"https://plot.ly\";Plotly.newPlot(\"b288130e-47f3-4715-a3cc-04b49bc701a6\", [{\"type\": \"histogram\", \"x\": [0.1748665606831045, 0.31487867090539395, 6.098178475349994e-08, 0.740049470200442, 0.5389225287082996, 0.044255131072940365, 0.4624382042798537, -0.6041115606099673, 0.309546913582786, -0.04619354686724337, 2.4569877657742608e-08, 0.012604932297288256, -0.7918511491749883, -0.8980415832129872, 0.8724106393314436, 0.17228248780622932, 0.5016183115562839, 0.018652077405978455, -0.13498206434026358, -4.835060502480642e-08, 0.04927041768044475, -0.9996237401754323, 0.9986242704496613, -0.5498122340376284, -0.6849570597248124, -0.4194769797980833, 0.373065635557237, 0.0011460466094698493, -0.0061352281354456846, 0.6361218818834562, 0.022855864547545898, -0.29643983840503685, -0.9999999999999425, 0.6382998396231228, -0.25391511551887375, -0.6541640694891026, 0.042363667868982054, 0.02727560956016991, -0.9998265541539182, -0.44306026561987644, -0.8676776946242983, 0.740049470200442, -0.5898678085791101, -4.921186413719561e-08, -0.4064873256559469, -0.9024363631531304, 0.2861508318000483, 0.7561697051948687, 0.012569291649259988], \"autobinx\": false, \"xbins\": {\"start\": -1.0, \"end\": 1.0, \"size\": 0.09999999999999998}}], {\"width\": 450, \"height\": 450}, {\"showLink\": true, \"linkText\": \"Export to plot.ly\"})});</script>"
      ]
     },
     "metadata": {},
     "output_type": "display_data"
    },
    {
     "data": {
      "text/markdown": [
       "The feature \"sepal length\" is a weak negative predictor for the instance                       \"Iris-virginica\" of class \"scientific name\".\n",
       "For data points centered around 6.87 the influence on the classification is very strong. The impact of it on the classification is strong for data points centered around 7.22. For data points centered around 6.76 the classification is moderately influenced. For data points centered around 6.98 the feature influences the classification weakly. For data points centered around 6.35 the feature influences the classification weakly but moderately for points centered around 6.7. The feature influences the classification strongly for data points centered around 6.32. The feature influences the classification very strongly for data points centered around 5.83."
      ],
      "text/plain": [
       "<IPython.core.display.Markdown object>"
      ]
     },
     "metadata": {},
     "output_type": "display_data"
    },
    {
     "name": "stderr",
     "output_type": "stream",
     "text": [
      "/home/iliricon/.virtualenvs/SimpleSPN/lib/python3.7/site-packages/sklearn/preprocessing/label.py:151: DeprecationWarning:\n",
      "\n",
      "The truth value of an empty array is ambiguous. Returning False, but in future this will result in an error. Use `array.size > 0` to check that an array is not empty.\n",
      "\n"
     ]
    },
    {
     "data": {
      "text/markdown": [
       "##### Predictive <class 'spn.structure.leaves.piecewise.PiecewiseLinear.PiecewiseLinear'> feature \"sepal width\"\n",
       "\n"
      ],
      "text/plain": [
       "<IPython.core.display.Markdown object>"
      ]
     },
     "metadata": {},
     "output_type": "display_data"
    },
    {
     "data": {
      "application/vnd.plotly.v1+json": {
       "data": [
        {
         "autobinx": false,
         "type": "histogram",
         "x": [
          -0.006366940672769155,
          0.23708845957785749,
          -6.889879540879724e-08,
          0.28252273943006484,
          -0.20126518096997964,
          0.005889948682352788,
          0.3234425586605033,
          -0.24722497709515961,
          0.5136982210370344,
          0.44349769944782585,
          -4.324601116095952e-08,
          -0.01924336391372983,
          0.25643426054908336,
          0.21452829740739868,
          0.2712723624462642,
          0.05755400386377295,
          -0.49958124020792954,
          0.012166379054661246,
          -0.9772125260298249,
          1.2774816640662096e-06,
          0.9952384668568368,
          -0.018704552496000514,
          0.00818476038121591,
          0.5574641682323149,
          0.1381428694059463,
          -0.8169341028309792,
          -0.2757068768973045,
          0.0034342541439303,
          -0.9852800628907472,
          0.5545509368131174,
          -0.012638907552411168,
          0.7295517011202576,
          -3.378570105823832e-07,
          0.5543355451909038,
          0.04821997419131169,
          -0.18047422510402641,
          -0.9981822601390864,
          0.010476845235295093,
          0.006785641569795834,
          0.1690368138525712,
          -0.011083223380481646,
          0.28252273943006484,
          -0.33510120233237295,
          -9.585365220142924e-08,
          0.1884171356353217,
          0.2844448605049478,
          0.18362748394178008,
          -0.6538740715289968,
          -0.9997824461943225
         ],
         "xbins": {
          "end": 1,
          "size": 0.09999999999999998,
          "start": -1
         }
        }
       ],
       "layout": {
        "height": 450,
        "width": 450
       }
      },
      "text/html": [
       "<div id=\"20773a37-7e40-45b7-8104-f63b6e377d5e\" style=\"height: 450px; width: 450px;\" class=\"plotly-graph-div\"></div><script type=\"text/javascript\">require([\"plotly\"], function(Plotly) { window.PLOTLYENV=window.PLOTLYENV || {};window.PLOTLYENV.BASE_URL=\"https://plot.ly\";Plotly.newPlot(\"20773a37-7e40-45b7-8104-f63b6e377d5e\", [{\"type\": \"histogram\", \"x\": [-0.006366940672769155, 0.23708845957785749, -6.889879540879724e-08, 0.28252273943006484, -0.20126518096997964, 0.005889948682352788, 0.3234425586605033, -0.24722497709515961, 0.5136982210370344, 0.44349769944782585, -4.324601116095952e-08, -0.01924336391372983, 0.25643426054908336, 0.21452829740739868, 0.2712723624462642, 0.05755400386377295, -0.49958124020792954, 0.012166379054661246, -0.9772125260298249, 1.2774816640662096e-06, 0.9952384668568368, -0.018704552496000514, 0.00818476038121591, 0.5574641682323149, 0.1381428694059463, -0.8169341028309792, -0.2757068768973045, 0.0034342541439303, -0.9852800628907472, 0.5545509368131174, -0.012638907552411168, 0.7295517011202576, -3.378570105823832e-07, 0.5543355451909038, 0.04821997419131169, -0.18047422510402641, -0.9981822601390864, 0.010476845235295093, 0.006785641569795834, 0.1690368138525712, -0.011083223380481646, 0.28252273943006484, -0.33510120233237295, -9.585365220142924e-08, 0.1884171356353217, 0.2844448605049478, 0.18362748394178008, -0.6538740715289968, -0.9997824461943225], \"autobinx\": false, \"xbins\": {\"start\": -1.0, \"end\": 1.0, \"size\": 0.09999999999999998}}], {\"width\": 450, \"height\": 450}, {\"showLink\": true, \"linkText\": \"Export to plot.ly\"})});</script>"
      ],
      "text/vnd.plotly.v1+html": [
       "<div id=\"20773a37-7e40-45b7-8104-f63b6e377d5e\" style=\"height: 450px; width: 450px;\" class=\"plotly-graph-div\"></div><script type=\"text/javascript\">require([\"plotly\"], function(Plotly) { window.PLOTLYENV=window.PLOTLYENV || {};window.PLOTLYENV.BASE_URL=\"https://plot.ly\";Plotly.newPlot(\"20773a37-7e40-45b7-8104-f63b6e377d5e\", [{\"type\": \"histogram\", \"x\": [-0.006366940672769155, 0.23708845957785749, -6.889879540879724e-08, 0.28252273943006484, -0.20126518096997964, 0.005889948682352788, 0.3234425586605033, -0.24722497709515961, 0.5136982210370344, 0.44349769944782585, -4.324601116095952e-08, -0.01924336391372983, 0.25643426054908336, 0.21452829740739868, 0.2712723624462642, 0.05755400386377295, -0.49958124020792954, 0.012166379054661246, -0.9772125260298249, 1.2774816640662096e-06, 0.9952384668568368, -0.018704552496000514, 0.00818476038121591, 0.5574641682323149, 0.1381428694059463, -0.8169341028309792, -0.2757068768973045, 0.0034342541439303, -0.9852800628907472, 0.5545509368131174, -0.012638907552411168, 0.7295517011202576, -3.378570105823832e-07, 0.5543355451909038, 0.04821997419131169, -0.18047422510402641, -0.9981822601390864, 0.010476845235295093, 0.006785641569795834, 0.1690368138525712, -0.011083223380481646, 0.28252273943006484, -0.33510120233237295, -9.585365220142924e-08, 0.1884171356353217, 0.2844448605049478, 0.18362748394178008, -0.6538740715289968, -0.9997824461943225], \"autobinx\": false, \"xbins\": {\"start\": -1.0, \"end\": 1.0, \"size\": 0.09999999999999998}}], {\"width\": 450, \"height\": 450}, {\"showLink\": true, \"linkText\": \"Export to plot.ly\"})});</script>"
      ]
     },
     "metadata": {},
     "output_type": "display_data"
    },
    {
     "data": {
      "text/markdown": [
       "The feature \"sepal width\" is a very weak positive predictor for the instance                       \"Iris-virginica\" of class \"scientific name\".\n",
       "The classification is very strongly influenced for data points centered around 3.3 and moderately for points centered around 3.2. For data points centered around 3.22 the feature influences the classification weakly. The feature influences the classification weakly for data points centered around 2.89 and moderately for points centered around 2.66. The classification is strongly influenced for data points centered around 2.82."
      ],
      "text/plain": [
       "<IPython.core.display.Markdown object>"
      ]
     },
     "metadata": {},
     "output_type": "display_data"
    },
    {
     "name": "stderr",
     "output_type": "stream",
     "text": [
      "/home/iliricon/.virtualenvs/SimpleSPN/lib/python3.7/site-packages/sklearn/preprocessing/label.py:151: DeprecationWarning:\n",
      "\n",
      "The truth value of an empty array is ambiguous. Returning False, but in future this will result in an error. Use `array.size > 0` to check that an array is not empty.\n",
      "\n"
     ]
    },
    {
     "data": {
      "text/markdown": [
       "##### Predictive <class 'spn.structure.leaves.piecewise.PiecewiseLinear.PiecewiseLinear'> feature \"petal length\"\n",
       "\n"
      ],
      "text/plain": [
       "<IPython.core.display.Markdown object>"
      ]
     },
     "metadata": {},
     "output_type": "display_data"
    },
    {
     "data": {
      "application/vnd.plotly.v1+json": {
       "data": [
        {
         "autobinx": false,
         "type": "histogram",
         "x": [
          0.9606489238829888,
          -0.5209837442961736,
          -1.643942182379041e-06,
          -0.5158563483024545,
          0.7259724718895719,
          -0.0924356582546165,
          -0.6861832592860646,
          -0.6068668004365444,
          0.2607765676488771,
          -0.0271030253365704,
          2.4808694086233393e-08,
          0.9995605674097399,
          0.20524749357468858,
          0.2316818714954584,
          -0.2329280524284799,
          -0.10579131517886027,
          0.5028518241417909,
          0.014181273977361462,
          -0.13601891379432315,
          -0.9999999999991817,
          -0.05168000201732098,
          0.006680342130907387,
          0.04868945752041233,
          -0.5543705808528132,
          0.7079299113183215,
          -0.27933323039188884,
          0.49728319274745447,
          0.975354973389239,
          0.030870931510309094,
          -0.32367420867582164,
          0.08344775223711352,
          0.37257193669199035,
          -1.966555135836771e-08,
          -0.32282285971823516,
          -0.9372274737644369,
          0.3380648423800489,
          -0.010811130090773691,
          0.014235726495632168,
          0.012593212815502294,
          -0.2230388374004269,
          0.49118475810320217,
          -0.5158563483024545,
          -0.654129449088309,
          -3.281970976958988e-08,
          0.7988490827667218,
          -0.25056074004231516,
          0.8393639714407516,
          0.0037527466847422967,
          -0.01301927014586304
         ],
         "xbins": {
          "end": 1,
          "size": 0.09999999999999998,
          "start": -1
         }
        }
       ],
       "layout": {
        "height": 450,
        "width": 450
       }
      },
      "text/html": [
       "<div id=\"db3c7f1f-832b-4780-b931-db0d474cc0d9\" style=\"height: 450px; width: 450px;\" class=\"plotly-graph-div\"></div><script type=\"text/javascript\">require([\"plotly\"], function(Plotly) { window.PLOTLYENV=window.PLOTLYENV || {};window.PLOTLYENV.BASE_URL=\"https://plot.ly\";Plotly.newPlot(\"db3c7f1f-832b-4780-b931-db0d474cc0d9\", [{\"type\": \"histogram\", \"x\": [0.9606489238829888, -0.5209837442961736, -1.643942182379041e-06, -0.5158563483024545, 0.7259724718895719, -0.0924356582546165, -0.6861832592860646, -0.6068668004365444, 0.2607765676488771, -0.0271030253365704, 2.4808694086233393e-08, 0.9995605674097399, 0.20524749357468858, 0.2316818714954584, -0.2329280524284799, -0.10579131517886027, 0.5028518241417909, 0.014181273977361462, -0.13601891379432315, -0.9999999999991817, -0.05168000201732098, 0.006680342130907387, 0.04868945752041233, -0.5543705808528132, 0.7079299113183215, -0.27933323039188884, 0.49728319274745447, 0.975354973389239, 0.030870931510309094, -0.32367420867582164, 0.08344775223711352, 0.37257193669199035, -1.966555135836771e-08, -0.32282285971823516, -0.9372274737644369, 0.3380648423800489, -0.010811130090773691, 0.014235726495632168, 0.012593212815502294, -0.2230388374004269, 0.49118475810320217, -0.5158563483024545, -0.654129449088309, -3.281970976958988e-08, 0.7988490827667218, -0.25056074004231516, 0.8393639714407516, 0.0037527466847422967, -0.01301927014586304], \"autobinx\": false, \"xbins\": {\"start\": -1.0, \"end\": 1.0, \"size\": 0.09999999999999998}}], {\"width\": 450, \"height\": 450}, {\"showLink\": true, \"linkText\": \"Export to plot.ly\"})});</script>"
      ],
      "text/vnd.plotly.v1+html": [
       "<div id=\"db3c7f1f-832b-4780-b931-db0d474cc0d9\" style=\"height: 450px; width: 450px;\" class=\"plotly-graph-div\"></div><script type=\"text/javascript\">require([\"plotly\"], function(Plotly) { window.PLOTLYENV=window.PLOTLYENV || {};window.PLOTLYENV.BASE_URL=\"https://plot.ly\";Plotly.newPlot(\"db3c7f1f-832b-4780-b931-db0d474cc0d9\", [{\"type\": \"histogram\", \"x\": [0.9606489238829888, -0.5209837442961736, -1.643942182379041e-06, -0.5158563483024545, 0.7259724718895719, -0.0924356582546165, -0.6861832592860646, -0.6068668004365444, 0.2607765676488771, -0.0271030253365704, 2.4808694086233393e-08, 0.9995605674097399, 0.20524749357468858, 0.2316818714954584, -0.2329280524284799, -0.10579131517886027, 0.5028518241417909, 0.014181273977361462, -0.13601891379432315, -0.9999999999991817, -0.05168000201732098, 0.006680342130907387, 0.04868945752041233, -0.5543705808528132, 0.7079299113183215, -0.27933323039188884, 0.49728319274745447, 0.975354973389239, 0.030870931510309094, -0.32367420867582164, 0.08344775223711352, 0.37257193669199035, -1.966555135836771e-08, -0.32282285971823516, -0.9372274737644369, 0.3380648423800489, -0.010811130090773691, 0.014235726495632168, 0.012593212815502294, -0.2230388374004269, 0.49118475810320217, -0.5158563483024545, -0.654129449088309, -3.281970976958988e-08, 0.7988490827667218, -0.25056074004231516, 0.8393639714407516, 0.0037527466847422967, -0.01301927014586304], \"autobinx\": false, \"xbins\": {\"start\": -1.0, \"end\": 1.0, \"size\": 0.09999999999999998}}], {\"width\": 450, \"height\": 450}, {\"showLink\": true, \"linkText\": \"Export to plot.ly\"})});</script>"
      ]
     },
     "metadata": {},
     "output_type": "display_data"
    },
    {
     "data": {
      "text/markdown": [
       "The feature \"petal length\" is a very weak positive predictor for the instance                       \"Iris-virginica\" of class \"scientific name\".\n",
       "The feature influences the classification strongly for data points centered around 5.76. The classification is moderately influenced by it for data points centered around 5.48. The classification is weakly influenced for data points centered around 5.63. The classification is weakly influenced for data points centered around 5.45. For data points centered around 5.92 the classification is moderately influenced. For data points centered around 5.37 the feature influences the classification strongly. For data points centered around 5.02 the impact on the classification is very strong."
      ],
      "text/plain": [
       "<IPython.core.display.Markdown object>"
      ]
     },
     "metadata": {},
     "output_type": "display_data"
    },
    {
     "name": "stderr",
     "output_type": "stream",
     "text": [
      "/home/iliricon/.virtualenvs/SimpleSPN/lib/python3.7/site-packages/sklearn/preprocessing/label.py:151: DeprecationWarning:\n",
      "\n",
      "The truth value of an empty array is ambiguous. Returning False, but in future this will result in an error. Use `array.size > 0` to check that an array is not empty.\n",
      "\n"
     ]
    },
    {
     "data": {
      "text/markdown": [
       "##### Predictive <class 'spn.structure.leaves.piecewise.PiecewiseLinear.PiecewiseLinear'> feature \"petal width\"\n",
       "\n"
      ],
      "text/plain": [
       "<IPython.core.display.Markdown object>"
      ]
     },
     "metadata": {},
     "output_type": "display_data"
    },
    {
     "data": {
      "application/vnd.plotly.v1+json": {
       "data": [
        {
         "autobinx": false,
         "type": "histogram",
         "x": [
          -0.21571924592809788,
          0.7571105752286057,
          -0.9999999999986446,
          0.32618999260712084,
          -0.3768538244974014,
          0.994717266845847,
          -0.45900800989212004,
          -0.4534773638954859,
          0.7564987956104279,
          0.8946738918901763,
          -0.9999999999999983,
          0.0186944030817671,
          0.5148657047698976,
          0.3063044806269669,
          -0.3332499124470999,
          -0.9776576490097505,
          -0.4959210591424844,
          0.9996514245963533,
          -0.0912928056697916,
          -4.811509422103468e-08,
          0.06634755023011069,
          -0.018918002606468757,
          -0.017661055822118986,
          0.2821585857714062,
          -0.10288641614064055,
          0.280411628592777,
          0.7331556286414963,
          -0.22061180467173722,
          -0.1680254213903856,
          0.4278518628063047,
          0.9961698349770681,
          0.4909866490939579,
          2.454198401481546e-08,
          -0.4255241700753789,
          0.2341081173756221,
          -0.6520817330742444,
          -0.04148029236242263,
          0.9994716708982694,
          0.011925924206191978,
          -0.8516911609277635,
          -0.07582950493086409,
          0.32618999260712084,
          -0.33448141418156796,
          -0.9999999999999936,
          -0.40138158906808896,
          0.2047414157925054,
          0.4241070290015963,
          -0.025337569337208668,
          0.010371682312981852
         ],
         "xbins": {
          "end": 1,
          "size": 0.09999999999999998,
          "start": -1
         }
        }
       ],
       "layout": {
        "height": 450,
        "width": 450
       }
      },
      "text/html": [
       "<div id=\"afb8c274-b9f7-47bd-b0ac-5ab545f049e3\" style=\"height: 450px; width: 450px;\" class=\"plotly-graph-div\"></div><script type=\"text/javascript\">require([\"plotly\"], function(Plotly) { window.PLOTLYENV=window.PLOTLYENV || {};window.PLOTLYENV.BASE_URL=\"https://plot.ly\";Plotly.newPlot(\"afb8c274-b9f7-47bd-b0ac-5ab545f049e3\", [{\"type\": \"histogram\", \"x\": [-0.21571924592809788, 0.7571105752286057, -0.9999999999986446, 0.32618999260712084, -0.3768538244974014, 0.994717266845847, -0.45900800989212004, -0.4534773638954859, 0.7564987956104279, 0.8946738918901763, -0.9999999999999983, 0.0186944030817671, 0.5148657047698976, 0.3063044806269669, -0.3332499124470999, -0.9776576490097505, -0.4959210591424844, 0.9996514245963533, -0.0912928056697916, -4.811509422103468e-08, 0.06634755023011069, -0.018918002606468757, -0.017661055822118986, 0.2821585857714062, -0.10288641614064055, 0.280411628592777, 0.7331556286414963, -0.22061180467173722, -0.1680254213903856, 0.4278518628063047, 0.9961698349770681, 0.4909866490939579, 2.454198401481546e-08, -0.4255241700753789, 0.2341081173756221, -0.6520817330742444, -0.04148029236242263, 0.9994716708982694, 0.011925924206191978, -0.8516911609277635, -0.07582950493086409, 0.32618999260712084, -0.33448141418156796, -0.9999999999999936, -0.40138158906808896, 0.2047414157925054, 0.4241070290015963, -0.025337569337208668, 0.010371682312981852], \"autobinx\": false, \"xbins\": {\"start\": -1.0, \"end\": 1.0, \"size\": 0.09999999999999998}}], {\"width\": 450, \"height\": 450}, {\"showLink\": true, \"linkText\": \"Export to plot.ly\"})});</script>"
      ],
      "text/vnd.plotly.v1+html": [
       "<div id=\"afb8c274-b9f7-47bd-b0ac-5ab545f049e3\" style=\"height: 450px; width: 450px;\" class=\"plotly-graph-div\"></div><script type=\"text/javascript\">require([\"plotly\"], function(Plotly) { window.PLOTLYENV=window.PLOTLYENV || {};window.PLOTLYENV.BASE_URL=\"https://plot.ly\";Plotly.newPlot(\"afb8c274-b9f7-47bd-b0ac-5ab545f049e3\", [{\"type\": \"histogram\", \"x\": [-0.21571924592809788, 0.7571105752286057, -0.9999999999986446, 0.32618999260712084, -0.3768538244974014, 0.994717266845847, -0.45900800989212004, -0.4534773638954859, 0.7564987956104279, 0.8946738918901763, -0.9999999999999983, 0.0186944030817671, 0.5148657047698976, 0.3063044806269669, -0.3332499124470999, -0.9776576490097505, -0.4959210591424844, 0.9996514245963533, -0.0912928056697916, -4.811509422103468e-08, 0.06634755023011069, -0.018918002606468757, -0.017661055822118986, 0.2821585857714062, -0.10288641614064055, 0.280411628592777, 0.7331556286414963, -0.22061180467173722, -0.1680254213903856, 0.4278518628063047, 0.9961698349770681, 0.4909866490939579, 2.454198401481546e-08, -0.4255241700753789, 0.2341081173756221, -0.6520817330742444, -0.04148029236242263, 0.9994716708982694, 0.011925924206191978, -0.8516911609277635, -0.07582950493086409, 0.32618999260712084, -0.33448141418156796, -0.9999999999999936, -0.40138158906808896, 0.2047414157925054, 0.4241070290015963, -0.025337569337208668, 0.010371682312981852], \"autobinx\": false, \"xbins\": {\"start\": -1.0, \"end\": 1.0, \"size\": 0.09999999999999998}}], {\"width\": 450, \"height\": 450}, {\"showLink\": true, \"linkText\": \"Export to plot.ly\"})});</script>"
      ]
     },
     "metadata": {},
     "output_type": "display_data"
    },
    {
     "data": {
      "text/markdown": [
       "The feature \"petal width\" is a very weak positive predictor for the instance                       \"Iris-virginica\" of class \"scientific name\".\n",
       "For data points centered around 2.46 the classification is very strongly influenced by the feature but moderately for points centered around 2.19. For data points centered around 2.09 the impact of it on the classification is weak. For data points centered around 1.83 the feature influences the classification weakly. The feature influences the classification moderately for data points centered around 2.0. For data points centered around 1.74 the feature influences the classification very strongly."
      ],
      "text/plain": [
       "<IPython.core.display.Markdown object>"
      ]
     },
     "metadata": {},
     "output_type": "display_data"
    }
   ],
   "source": [
    "import pickle\n",
    "import pandas as pd\n",
    "import numpy as np\n",
    "\n",
    "#from tfspn.SPN import SPN\n",
    "from pprint import PrettyPrinter\n",
    "from IPython.display import Image\n",
    "from IPython.display import display, Markdown\n",
    "from importlib import reload\n",
    "\n",
    "import plotly.plotly as py\n",
    "from plotly.offline import download_plotlyjs, init_notebook_mode, plot, iplot\n",
    "from plotly.graph_objs import *\n",
    "\n",
    "from deep_notebooks.text_util import printmd\n",
    "import deep_notebooks.ba_functions as f\n",
    "import deep_notebooks.dn_plot as p\n",
    "import deep_notebooks.dn_text_generation as descr\n",
    "import deep_notebooks.data_util as util\n",
    "\n",
    "from spn.algorithms.LearningWrappers import learn_piecewise_from_data\n",
    "\n",
    "init_notebook_mode(connected=True)\n",
    "pp = PrettyPrinter()\n",
    "\n",
    "# path to the dataset you want to use for training\n",
    "dataset = 'deep_notebooks/example_data/iris'\n",
    "\n",
    "# the minimum number of datapoints that are included in a child of a \n",
    "# sum node\n",
    "min_instances = 25\n",
    "\n",
    "# the parameter which governs how strict the independence test will be\n",
    "# 1 results in all features being evaluated as independent, 0 will \n",
    "# result in no features being acccepted as truly independent\n",
    "independence_threshold = 0.3\n",
    "\n",
    "\n",
    "spn, dictionary = learn_piecewise_from_data(\n",
    "    data_file=dataset, \n",
    "    header=0, \n",
    "    min_instances=min_instances, \n",
    "    independence_threshold=independence_threshold, \n",
    "    histogram=True)\n",
    "df = pd.read_csv(dataset)\n",
    "context = dictionary['context']\n",
    "categoricals = context.get_categoricals()\n",
    "\n",
    "descr.classify = 'all'\n",
    "\n",
    "numerical_data, categorical_data = util.get_categorical_data(spn, df, dictionary)\n",
    "misclassified, data_dict = descr.classification(spn, numerical_data, dictionary)\n",
    "\n",
    "descr.explanation_vector_threshold = 0\n",
    "descr.explanation_vector_classes = None\n",
    "descr.explanation_vectors_show = 'all'\n",
    "\n",
    "expl_vectors = descr.explanation_vector_description(spn, dictionary, data_dict, categoricals)"
   ]
  },
  {
   "cell_type": "code",
   "execution_count": null,
   "metadata": {},
   "outputs": [],
   "source": []
  }
 ],
 "metadata": {
  "kernelspec": {
   "display_name": "Python 3",
   "language": "python",
   "name": "python3"
  },
  "language_info": {
   "codemirror_mode": {
    "name": "ipython",
    "version": 3
   },
   "file_extension": ".py",
   "mimetype": "text/x-python",
   "name": "python",
   "nbconvert_exporter": "python",
   "pygments_lexer": "ipython3",
   "version": "3.7.0"
  }
 },
 "nbformat": 4,
 "nbformat_minor": 2
}
